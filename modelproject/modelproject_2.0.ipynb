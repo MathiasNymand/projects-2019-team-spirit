{
 "cells": [
  {
   "cell_type": "markdown",
   "metadata": {},
   "source": [
    "# Model Project"
   ]
  },
  {
   "cell_type": "code",
   "execution_count": 163,
   "metadata": {},
   "outputs": [],
   "source": [
    "## Importing packages \n",
    "\n",
    "import numpy as np\n",
    "from scipy import optimize\n",
    "import sympy as sm\n",
    "sm.init_printing(use_unicode=True)\n",
    "import matplotlib.pyplot as plt\n",
    "import ipywidgets as widgets\n",
    "%matplotlib inline\n",
    "import matplotlib.pyplot as plt\n",
    "import ipywidgets as widgets\n",
    "from IPython.display import Image"
   ]
  },
  {
   "cell_type": "code",
   "execution_count": 164,
   "metadata": {},
   "outputs": [],
   "source": [
    "#Running python file to define variables\n",
    "exec(open(\"Def_variables.py\").read())"
   ]
  },
  {
   "cell_type": "markdown",
   "metadata": {},
   "source": [
    "## The Green Solow Model"
   ]
  },
  {
   "cell_type": "markdown",
   "metadata": {},
   "source": [
    "Our assignment builds on the original Solow model that was presented by Solow and Swan (1956). The standard Solow model is given by these equations:  \n",
    "\n",
    "\\begin{align}\n",
    "    & Q = F(K,BL) = K^{\\alpha}BL^{1-\\alpha}, \\quad 1>\\alpha>0 \\quad \\quad (1) \\\\\n",
    "    & \\dot{K} = sY - \\delta K \\\\ \n",
    "    & \\dot{L} = nL \\Rightarrow L=L_0 e^{nt} \\\\\n",
    "    & \\dot{B} = g_BB \\Rightarrow B=B_0 e^{g_Bt}, \\quad 1>g_B>0\n",
    "\\end{align}\n",
    "\n",
    "The first equation shows a simple Cobb-Douglas production function where the production of gross output, Q, is made through Capital, K, and effective labour, BL. It can be shown that the production function exhibits constant return to scale.\n",
    "The second equation is describing the evolution of capital, where, s, is a fixed savings rate of net output, Y. From equation 2 we see that the capital is assumed to depreciate with a constant rate, $\\delta$.  \n",
    "The third equation presents the evolution of workers over time. We notice that the evoulution is given by a constant growth rate, n. \n",
    "Lastly, we see that the technological progress in the production of output is given by the exogenous growth rate, $g_B$.\n",
    "\n",
    "In this assignment we will be working with an exstention of the original Solow model. Namely, we will work with the Green Solow model developed by William A. Brock and M. Scott Taylor (2004). In their model they add a function describing total emissions, E, given by:\n",
    "\n",
    "\\begin{align}\n",
    "E=\\Omega Q-\\Omega A(Q,R)\n",
    "\\end{align}\n",
    "\n",
    "This simply shows that total emissions is given by the amount of pullution produced minus the amount of pollution abated.  \n",
    "$\\Omega$ is the fraction of pollution arising from the production of gross output, Q. It is important to notice that it is assumed that every unit of output generates the same fraction of pollution. Further, the equation shows that abatement exists in the economy. $(A(Q,R))$. The abatement has a negative effect on the total amount of emissions. Hence, abatement reduces the amount of pollution released into the atmosphere.\n",
    "\n",
    "In the Green Solow model it is assumed that the abatement function is a concave function that is increasing with gross output, Q, and the economy's effort at abatement, R. Hence, abatement has a diminishing effect on total emissions.\n",
    "\n",
    "When considering the Green Solow model there must be a lower amount available for consumption and investment due to the inclusion of abatement. We define this net output (income) as Y:  \n",
    "\n",
    "\\begin{align}\n",
    "Y=Q-R=(1-\\theta)Q\n",
    "\\end{align}\n",
    "\n",
    "We can rewrite this in order to understand how emissions are being affected in the Green Solow model.\n",
    "\n",
    "\\begin{align}\n",
    "    &E=\\Omega (Q-A(Q,R))\\\\  \n",
    "    &E=\\Omega Q(1-A(1,\\frac{R}{Q})\\\\  \n",
    "    &E=\\Omega Q \\alpha(\\theta), \\quad \\theta \\equiv \\frac{R}{Q} \\quad \\alpha(\\theta) \\equiv 1-A(1,\\theta)\\\\\n",
    "\\end{align}\n",
    "\n",
    "\n",
    "We notice that the emissions are affected by the scale of economic activity, Q. Further, we notice that the abatement intensity, $\\theta$ is assumed constant. There are more underlying mechanism in the Green Solow model such as the development in the fraction $\\Omega$ that we won't go into detail with due to the focus of this assignment.\n",
    "\n",
    "We are able to derive the model in output per effective worker since the production function has constant returns to scale. This implies that: \n",
    "\n",
    "\\begin{align}\n",
    "Q=K^\\alpha (BL)^{1-\\alpha} \\Rightarrow q=k^\\alpha \\quad q\\equiv \\frac{Q}{BL},\\quad k\\equiv \\frac{K}{BL}\n",
    "\\end{align}\n",
    "\n",
    "Using the above definitons we are now able to calculate the transition equation for capital per effective worker. When using the second equation and **the definitons just given** we get the following transition equation for capital per effective worker:  \n",
    "\n",
    "\\begin{align}\n",
    "\\dot{k}=s(1-\\theta)k^\\alpha-k(\\delta+g_B+n)$\n",
    "\\end{align}\n",
    "\n",
    "It can be shown that the growth rate for total emissions is given by:\n",
    "\n",
    "\\begin{align}\n",
    "\\frac{\\dot{E}}{E}=g_E+\\alpha \\frac{\\dot{k}}{k}, \\quad; g_E\\equiv g_B+n-g_A\n",
    "\\end{align}\n",
    "\n",
    "When substituting for $\\frac{\\dot{k}}{k}$ we get:\n",
    "\n",
    "\\begin{align}\n",
    "\\frac{\\dot{E}}{E}=\\alpha s(1-\\theta)k^{\\alpha-1}-[\\alpha(\\delta+g_B+n)-g_E]\n",
    "\\end{align}\n",
    "\n",
    "When considering this equation we notice that the emissions will peak ($\\dot{E}=0$) when $\\alpha s(1-\\theta)k^{\\alpha-1}=[\\alpha(\\delta+g_B+n)-g_E]$\n",
    "\n",
    "**Sustainable growth**  \n",
    "Brock and Taylor (2004) define sustainable growth as a situation where the growth rate of net output per capita is positive, while the growth rate of total emissions is negative\n",
    "\n",
    "\\begin{align}\n",
    "    \\dot{y}>0 \\quad \\wedge \\quad \\dot{E}<0\n",
    "\\end{align}\n",
    "\n",
    "It is possible to establish conditions that will secure that sustainable growth occurs within the Green Solow model.\n",
    "\n",
    "From the equations defined in the Green Solow model it can be shown that the growth rate of y must be given by: \n",
    "\n",
    "\\begin{align}\n",
    "    \\frac{\\dot{y}}{y} = g_B+\\alpha \\frac{\\dot{k}}{k}\n",
    "\\end{align}\n",
    "\n",
    "Brock and Taylor also present a growth for total emission, which is given by: \n",
    "\n",
    "\\begin{align}\n",
    "    \\frac{\\dot{E}}{E} = g_E +\\alpha \\frac{\\dot{k}}{k}, \\quad g_E \\equiv g_B+n-g_A \n",
    "\\end{align}\n",
    "\n",
    "In steady state $\\dot{k}=0$. When applying this we get the following growth rates on the balanced growth path:\n",
    "\n",
    "\\begin{align}\n",
    "    & \\frac{\\dot{y}}{y}=g_B  \\qquad , \\qquad  \\frac{\\dot{E}}{E}=g_E\n",
    "\\end{align}\n",
    "\n",
    "We can thereby conclude that sustainable growth is secured  when \n",
    "\n",
    "\\begin{align}\n",
    "    & g_B > 0 \\qquad \\wedge \\qquad  \\underbrace{g_A}_{\\text{Technique effect}} > \\underbrace{g_B + n}_{\\text{Scale effect}}\n",
    "\\end{align}\n",
    "\n",
    "We note that technological growth in the production of net output is positive by assumption. However, from the second condition we see that the technological growth in abatement must be larger than the technological growth in the production of gross output plus the population growth rate. The term $n+g_B$ can be defined as the scale effect, as this measures the rate at which aggregate gross output grows. The term $g_A$ is defined as the technological progress in abatement, which reflects the technique effect.  \n",
    "We will use these definitions in the end of this project in order to secure the understanding of how an Environmental Kuznets Curve EKC relationship can potentially arise from the Green Solow model"
   ]
  },
  {
   "cell_type": "markdown",
   "metadata": {},
   "source": [
    "## 1. Steady State of The Green Solow Model\n",
    "\n",
    "Firstly we want to find the steady state of the Green Solow Model. In steady state capital does not change over time meaning that $\\dot{k}$ is equal to zero. We do this by setting the transition equation (as it is stated above) equal to zero and solving for capital, k."
   ]
  },
  {
   "cell_type": "code",
   "execution_count": 165,
   "metadata": {},
   "outputs": [
    {
     "data": {
      "image/png": "[encoded data removed]",
      "text/latex": [
       "$$\\left [ \\left(\\frac{s \\left(- \\theta + 1\\right)}{\\delta + g_{B} + n}\\right)^{- \\frac{1}{\\alpha - 1}}\\right ]$$"
      ],
      "text/plain": [
       "⎡              -1  ⎤\n",
       "⎢             ─────⎥\n",
       "⎢             α - 1⎥\n",
       "⎢⎛ s⋅(-θ + 1)⎞     ⎥\n",
       "⎢⎜───────────⎟     ⎥\n",
       "⎣⎝δ + g_B + n⎠     ⎦"
      ]
     },
     "execution_count": 165,
     "metadata": {},
     "output_type": "execute_result"
    }
   ],
   "source": [
    "# Stating the transition equation and setting it equal to zero\n",
    "f=k**alpha\n",
    "tc=sm.Eq(0,(s*(1-theta)*k**alpha-(delta+g_B+n)*k))\n",
    "\n",
    "# Solving the transition equation (tc) for k\n",
    "tcc=sm.solve(tc,k)\n",
    "tcc\n"
   ]
  },
  {
   "cell_type": "markdown",
   "metadata": {},
   "source": [
    "### 1.1  Analytical solution\n",
    "By stating the parameters and some realistic examples of parameter values we can find a numerical value for capital i the steady state."
   ]
  },
  {
   "cell_type": "code",
   "execution_count": 166,
   "metadata": {},
   "outputs": [
    {
     "data": {
      "image/png": "[encoded data removed]",
      "text/latex": [
       "$$\\left [ 6.261568722311015\\right ]$$"
      ],
      "text/plain": [
       "[6.261568722311015]"
      ]
     },
     "execution_count": 166,
     "metadata": {},
     "output_type": "execute_result"
    }
   ],
   "source": [
    "# Converting our tcc sympy function into a lambda function, making it possible to calculate a numerical value solution.\n",
    "tc_func = sm.lambdify((s,g_B,n,delta,alpha,theta),tcc)\n",
    "    \n",
    "# Adding numerical values to our parameters\n",
    "tc_func(0.25,0.015,0.01,0.035,0.25,0.05)"
   ]
  },
  {
   "cell_type": "markdown",
   "metadata": {},
   "source": [
    "In steady state capital is equal to 6.26."
   ]
  },
  {
   "cell_type": "markdown",
   "metadata": {},
   "source": [
    "### 1.2 Numerical Solution\n",
    "\n",
    "We also try to solve for capital in the steady state analytically."
   ]
  },
  {
   "cell_type": "code",
   "execution_count": 167,
   "metadata": {},
   "outputs": [
    {
     "data": {
      "image/png": "[encoded data removed]",
      "text/latex": [
       "$$6.261568722311015$$"
      ],
      "text/plain": [
       "6.261568722311015"
      ]
     },
     "execution_count": 167,
     "metadata": {},
     "output_type": "execute_result"
    }
   ],
   "source": [
    "# Running python file to define parameter values\n",
    "exec(open(\"Def_values.py\").read())\n",
    "\n",
    "# Defining our steady state as a lambda function\n",
    "obj_kss = lambda k: 0 - (s*(1-theta)*k**alpha-(delta+g_B+n)*k)\n",
    "\n",
    "# optimize.newton uses a numerical solution to find a numerical value solution to our steady state\n",
    "result = optimize.newton(obj_kss,x0=1)\n",
    "result"
   ]
  },
  {
   "cell_type": "markdown",
   "metadata": {},
   "source": [
    "The numerical solution is as expected the same as the analytical.\n",
    "\n",
    "### 1.3 Transition Diagram\n",
    "\n",
    "We now want to illustrate steady state in a transition diagram. The diagram shows how capital evolves over time and reaches steady state at the intersect.\n",
    "\n",
    "First we define the functions in the transitions diagram: investment pr. worker and the break even functions."
   ]
  },
  {
   "cell_type": "code",
   "execution_count": 168,
   "metadata": {},
   "outputs": [],
   "source": [
    "# Defining the investment per worker function, which calculates the saving/investment locus.\n",
    "def invest_per_work2(k, theta,alpha,s):\n",
    "    return (s*(1-theta)*k**alpha)\n",
    "\n",
    "# The break even equation does not depend on any of the parameters we have set for our widget. \n",
    "# The point where the two functions intersect is the steady state value of k\n",
    "def break_even(k):\n",
    "    return (delta+g_B+n)*k"
   ]
  },
  {
   "cell_type": "code",
   "execution_count": 169,
   "metadata": {},
   "outputs": [],
   "source": [
    "# Defining the k values of the function\n",
    "x_vec = np.linspace(0,50,50)"
   ]
  },
  {
   "cell_type": "markdown",
   "metadata": {},
   "source": [
    "The following code set up the structure of the diagram."
   ]
  },
  {
   "cell_type": "code",
   "execution_count": 170,
   "metadata": {},
   "outputs": [],
   "source": [
    "def transition_diagram2(theta,alpha,s):\n",
    "    \n",
    "    fig = plt.figure(figsize=(7,4)) # create the figure\n",
    "    plt.xlabel('k') # label x-axis\n",
    "    investment=invest_per_work2(x_vec,theta,alpha,s) # calculate the investments per worker using the function\n",
    "    break_even_cap=break_even(x_vec) # calculate the break even equation for the x-values\n",
    "    plt.title('Green solow transition diagram') #Title\n",
    "    ax = fig.add_subplot(1,1,1) # Include many plots \n",
    "    ax.plot(break_even_cap, label='$(\\delta+g_B+n)\\cdot k$'); # plot and label\n",
    "    ax.plot(investment, label='$s \\cdot (1-\\\\theta)\\cdot k^\\\\alpha $'); # plot and label\n",
    "    ax.set_xlim([0,50]) # fixed x range\n",
    "    ax.set_yticklabels([]) #remove y-labes\n",
    "    plt.legend() # plot the labels in the legend\n"
   ]
  },
  {
   "cell_type": "markdown",
   "metadata": {},
   "source": [
    "We add sliders to our diagram, so it is clear what impact the abatement intensity, savings and $\\alpha$ has on the steady state."
   ]
  },
  {
   "cell_type": "code",
   "execution_count": 171,
   "metadata": {},
   "outputs": [
    {
     "data": {
      "application/vnd.jupyter.widget-view+json": {
       "model_id": "30556cf6e5c3483986d0ccf0d9a9ed77",
       "version_major": 2,
       "version_minor": 0
      },
      "text/plain": [
       "interactive(children=(FloatSlider(value=0.05, description='$\\\\theta$', max=1.0, step=0.01), FloatSlider(value=…"
      ]
     },
     "metadata": {},
     "output_type": "display_data"
    }
   ],
   "source": [
    "# Widgets - all our widgets have the same min and max. Starting values differ according to the default values stated in \n",
    "# our model description earlier, they can also be found in the .py file with values.\n",
    "\n",
    "# Call diagram with widgets\n",
    "widgets.interact(transition_diagram2,\n",
    "    \n",
    "    # widgets for all the inputs in the function transition_diagram2             \n",
    "    theta=widgets.FloatSlider(description=\"$\\\\theta$\", min=0, max=1, step=0.01, value=0.05),\n",
    "    alpha=widgets.FloatSlider(description=\"$\\\\alpha$\", min=0, max=1, step=0.01, value=0.25),\n",
    "    s=widgets.FloatSlider(description=\"$s$\", min=0, max=1, step=0.01, value=0.25),\n",
    "    \n",
    ");"
   ]
  },
  {
   "cell_type": "markdown",
   "metadata": {},
   "source": [
    "The intersect of the two curves illustrates the steady state. It is evident from the figure that if the entire gross product is spent on abatament, i.e. $\\theta=1$, then the economy will implode, since there is no accumulation of capital. The lower the abatement intensity the higher the level of capital will be in steady state. However, a low level of abatement may cause irreversible damage to the environment making the economy implode before the the steady state is reached.\n",
    "A larger saving also increase the capital in the steady state. This is logical since a higher savings rate implies a higher accumulation of capital."
   ]
  },
  {
   "cell_type": "markdown",
   "metadata": {},
   "source": [
    "## 2. Emissions in the Green Solow Model\n",
    "\n",
    "### 2.1 Peak of Emmisions\n",
    "The Green Solow Model also predicts when the peak of emission occur depending on the abatement intensity, $\\theta$. In the following,  we solve for k, at the peak of emissions like we did with the transitions equation. We use the emission euqation (...) for this. As emissions over time does not change at the peak we set $\\dot{E}$ equal zero.\n",
    "We choose only to use an analytical solution when solving for k at the peak of emissions."
   ]
  },
  {
   "cell_type": "code",
   "execution_count": 172,
   "metadata": {},
   "outputs": [],
   "source": [
    "# Running python file defining variables to remove the previously set parameter values\n",
    "exec(open(\"Def_variables.py\").read())"
   ]
  },
  {
   "cell_type": "code",
   "execution_count": 173,
   "metadata": {},
   "outputs": [
    {
     "data": {
      "image/png": "[encoded data removed]",
      "text/latex": [
       "$$\\left [ \\left(\\frac{- \\alpha \\delta - \\alpha g_{B} - \\alpha n - g_{A} + g_{B} + n}{\\alpha s \\left(\\theta - 1\\right)}\\right)^{\\frac{1}{\\alpha - 1}}\\right ]$$"
      ],
      "text/plain": [
       "⎡                                      1  ⎤\n",
       "⎢                                    ─────⎥\n",
       "⎢                                    α - 1⎥\n",
       "⎢⎛-α⋅δ - α⋅g_B - α⋅n - g_A + g_B + n⎞     ⎥\n",
       "⎢⎜──────────────────────────────────⎟     ⎥\n",
       "⎣⎝           α⋅s⋅(θ - 1)            ⎠     ⎦"
      ]
     },
     "execution_count": 173,
     "metadata": {},
     "output_type": "execute_result"
    }
   ],
   "source": [
    "# Stating the emision equation and setting it equal to zero\n",
    "max_emis=sm.Eq(0,(alpha*s*(1-theta)*k**(alpha-1)-(alpha*(delta+g_B+n)-(g_B+n-g_A))))\n",
    "\n",
    "# Solving the emission equation (max_emis) for k\n",
    "max_emis_k=sm.solve(max_emis,k)\n",
    "max_emis_k\n"
   ]
  },
  {
   "cell_type": "markdown",
   "metadata": {},
   "source": [
    "The above expression is capital at the peak of emmisions."
   ]
  },
  {
   "cell_type": "code",
   "execution_count": 174,
   "metadata": {},
   "outputs": [
    {
     "data": {
      "image/png": "[encoded data removed]",
      "text/latex": [
       "$$\\left [ 4.266759550779367\\right ]$$"
      ],
      "text/plain": [
       "[4.266759550779367]"
      ]
     },
     "execution_count": 174,
     "metadata": {},
     "output_type": "execute_result"
    }
   ],
   "source": [
    "# Converting our maximum emissions sympy function (max_emis_func) into a lambda function, making it possible to\n",
    "# calculate a numerical value solution.\n",
    "max_emis_func = sm.lambdify((s,g_B,n,delta,alpha,theta,g_A),max_emis_k)\n",
    "\n",
    "# Adding numerical values to our parameters\n",
    "max_emis_func(0.25,0.015,0.01,0.035,0.25,0.05,0.03)"
   ]
  },
  {
   "cell_type": "markdown",
   "metadata": {},
   "source": [
    "At the peak of emmisions capital is equal to 4.27."
   ]
  },
  {
   "cell_type": "markdown",
   "metadata": {},
   "source": [
    "### 2.2 The Environmental Kuznets Curve\n",
    "\n",
    "The Environmental Kuznets Curve (EKC) describes a bell-shaped relationship between total emissions and income per capita, depicted in the figure below. The original Kuznets curve was formalized by Simon Kuznets (1955) as a bell-shaped relationship between income inequality and income per capita. In the early 1990s the idea behind the original Kuznets curve was translated to describe a relationship between total emissions and income per capita, thereby given the name \"The Environmental Kuznets Curve\". The figure of the EKC shows that as income per capita increases, in the early stages of economic development, when income per capita is low, emissions will increase as well. However, at a certain point when income per capita gets sufficiently high a turning point is reached. After this turning point income per capita will continue to rise, but emissions will start to decline.\n"
   ]
  },
  {
   "cell_type": "code",
   "execution_count": 175,
   "metadata": {},
   "outputs": [
    {
     "data": {
      "image/png": "[encoded data removed]",
      "text/plain": [
       "<IPython.core.display.Image object>"
      ]
     },
     "execution_count": 175,
     "metadata": {},
     "output_type": "execute_result"
    }
   ],
   "source": [
    "Image(filename=\"Kuznetz_Curve.png\")"
   ]
  },
  {
   "cell_type": "markdown",
   "metadata": {},
   "source": [
    "We would like to illustrate how the Environmental Kuznetz Curve is derived. First we define functions to use in the plot."
   ]
  },
  {
   "cell_type": "code",
   "execution_count": 176,
   "metadata": {},
   "outputs": [],
   "source": [
    "# Running python file defining variables to remove the previously set parameter values\n",
    "exec(open(\"Def_values.py\").read())"
   ]
  },
  {
   "cell_type": "code",
   "execution_count": 177,
   "metadata": {},
   "outputs": [],
   "source": [
    "# Calculate the change of emissions for different k values  \n",
    "def ekc(k, theta,s):\n",
    "    return (alpha*s*(1-theta)*k**(alpha-1))\n",
    "\n",
    "#Defining g_E\n",
    "g_E=g_B+n-g_A \n",
    "\n",
    "# Calculate the turning point of the emissions\n",
    "def turning_point(alpha):\n",
    "    return alpha*(delta+g_B+n)-(g_E)\n",
    "\n",
    "# Calculate the steady state value of emissions at the steady state level of capital\n",
    "def steady_state(alpha):\n",
    "    return alpha*(delta+g_B+n)\n",
    "\n",
    "# To plot intersections between the change of emissions and the two curves defined above, we define a algorithm to \n",
    "# find the position (index) on the x-values array of the closest value to the two horizontal curves.  \n",
    "def find_nearest(array, values):\n",
    "    indices = np.abs(np.subtract.outer(array, values)).argmin(0)\n",
    "    return indices\n",
    "\n",
    "# to avoid dividing by zero, we define another x-vector (k-vector) that does not start in zero. \n",
    "x_vec2 = np.linspace(0.01,200,1000)\n",
    "    "
   ]
  },
  {
   "cell_type": "code",
   "execution_count": 178,
   "metadata": {},
   "outputs": [],
   "source": [
    "# Defining the k values of the function\n",
    "x_vec2 = np.linspace(0.01,200,1000)"
   ]
  },
  {
   "cell_type": "markdown",
   "metadata": {},
   "source": [
    "We define our diagram to show how the Environmental Kuznetz Curve is derived"
   ]
  },
  {
   "cell_type": "code",
   "execution_count": 179,
   "metadata": {},
   "outputs": [],
   "source": [
    "# two inputs in the diagram to include in the widget-slides\n",
    "def ekc_diagram(theta,s):\n",
    "    fig = plt.figure(figsize=(7,4)) # create the figure\n",
    "    plt.xlabel('k') # label x-axis\n",
    "    ekc_calc=ekc(x_vec2, theta,s) # calculate the change in ekc using the function\n",
    "    steady_state_val=steady_state(alpha) # calculate the emissions at the steady state value of k\n",
    "    turning_point_val=turning_point(alpha) # calculate the emissions at the turning point level\n",
    "    plt.title('Generating Environmental Kuznets Curve') #title\n",
    "    ax = fig.add_subplot(1,1,1) # Include many plots \n",
    "    # steady state horizontal line\n",
    "    plt.axhline(y=steady_state_val, color='r', linestyle='-', label=\"$\\\\alpha \\cdot(\\delta+g_B+n)$\") \n",
    "    # turning point horizontal line\n",
    "    plt.axhline(y=turning_point_val, color='y', linestyle='-', label=\"$\\\\alpha \\cdot(\\delta+g_B+n)-g_E$\")\n",
    "    # plot the change in emissions\n",
    "    ax.plot(ekc_calc, label='$\\\\alpha \\cdot s \\cdot(1-\\\\theta)\\cdot k^{\\\\alpha-1}$');\n",
    "    # Find the x-value of intersection with steady state\n",
    "    steady_state_x=find_nearest(ekc_calc,steady_state_val)\n",
    "    # Find the x-value of intersection with turning point\n",
    "    turning_point_x=find_nearest(ekc_calc,turning_point_val)\n",
    "    # plot the intersection\n",
    "    ax.plot([steady_state_x], [steady_state_val], 'o', color='k')\n",
    "    # plot the intersection\n",
    "    ax.plot([turning_point_x], [turning_point_val], 'o', color='k')\n",
    "    # annotate above the intersection\n",
    "    ax.annotate('Point B', xy=(steady_state_x, steady_state_val), xytext=(steady_state_x, steady_state_val+0.001),\n",
    "               )\n",
    "    # annotate above the intersection\n",
    "    ax.annotate('Point T', xy=(turning_point_x, turning_point_val), xytext=(turning_point_x, turning_point_val+0.001),\n",
    "               )\n",
    "    ax.set_xlim([0,200]) # fixed x range\n",
    "    ax.set_ylim([0,0.05]) # fixed y range\n",
    "    ax.set_yticklabels([]) # no labels\n",
    "    ax.set_xticklabels([]) # no labels\n",
    "    plt.legend() # legend    "
   ]
  },
  {
   "cell_type": "markdown",
   "metadata": {},
   "source": [
    "We call our predefined function ekc_diagram and make it interactive! "
   ]
  },
  {
   "cell_type": "code",
   "execution_count": 180,
   "metadata": {},
   "outputs": [
    {
     "data": {
      "application/vnd.jupyter.widget-view+json": {
       "model_id": "efe0f7c2de47415994d8f5a8a530fa71",
       "version_major": 2,
       "version_minor": 0
      },
      "text/plain": [
       "interactive(children=(FloatSlider(value=0.05, description='$\\\\theta$', max=1.0, min=0.005, step=0.01), FloatSl…"
      ]
     },
     "metadata": {},
     "output_type": "display_data"
    }
   ],
   "source": [
    "# Widgets - all our widgets have the same min and max. Starting values differ according to the default values stated in \n",
    "# our model description earlier, they can also be found in the .py file with values.\n",
    "\n",
    "#call diagram\n",
    "widgets.interact(ekc_diagram,\n",
    "    \n",
    "    # widgets for all the inputs in the function ekc_diagram             \n",
    "    theta=widgets.FloatSlider(description=\"$\\\\theta$\", min=0.005, max=1, step=0.01, value=0.05),\n",
    "    s=widgets.FloatSlider(description=\"$s$\", min=0.005, max=1, step=0.01, value=0.25),\n",
    "    \n",
    ");"
   ]
  },
  {
   "cell_type": "markdown",
   "metadata": {},
   "source": [
    "To see how the Green Solow model can trace out an EKC relationship, we use equation (11) and (16). From these equations it is possible to link the dynamics of capital accumulation with the evolution of total emissions. In the figure above we have capital per effective worker on the horizontal axis, while we have the rates of change of $\\alpha$ times capital per effective worker ($\\alpha \\frac{\\dot{k}}{k}$) and the flow of emissions ($\\dot{E}/E$) on the vertical axis. \n",
    "We refer to the down-sloping function $\\alpha s (1-\\theta)k^{\\alpha - 1}$ as the savings locus, as it is shifted to the left and right when s goes down or up respectively. The savings locus will start at infinity and converge towards 0 as capital per effective worker increases. Hence, the rates of change for emissions will be high at a low k, and the rates of change for emissions will decrease when k increases. The same goes for capital per effective worker. As the savings locus is downward sloping, it must be the case that it intersects the two points T and B. Point T refers to the turning point for emissions, and point B refers to the steady state value for capital per effective worker. To verify that T and B represent these two points we note from equation (16) that when emissions peak ($\\dot{E} = 0$) then \n",
    "\\begin{align}\n",
    "    \\frac{\\dot{E}}{E} = g_E +\\alpha (s(1-\\theta)k^{\\alpha-1}-(\\delta+g_B+n)) = 0 => \\alpha s(1-\\theta)k^{\\alpha-1} = \\alpha(\\delta+g_B+n) -g_E  \n",
    "\\end{align}\n",
    "This is what happens at point T. From equation (19) it is apparent that to the left of point T the growth rate of emissions will be positive and to the right of point T the growth rate of emissions will be negative. Hence, point T must represent a turning point for total emissions. Looking at the horizontal line of $\\alpha (\\delta + g_B + n)$ we see that the vertical distance between the two curves must be $\\alpha \\frac{\\dot{k}}{k}$. This is seen as\n",
    "\\begin{align*}\n",
    "    \\alpha\\frac{\\dot{k}}{k}=\\alpha s(1-\\theta)k^{\\alpha-1}- \\alpha (\\delta+g_B+n) \n",
    "\\end{align*}\n",
    "In steady state $\\dot{k}=0$ such that\n",
    "\\begin{align*}\n",
    "    \\alpha\\frac{\\dot{k}}{k}=\\alpha s(1-\\theta)k^{\\alpha-1}- \\alpha (\\delta+g_B+n) =0 \\Rightarrow \\alpha s(1-\\theta)k^{\\alpha-1} = \\alpha (\\delta+g_B+n)\n",
    "\\end{align*}\n",
    "And we therefore conclude that point B represents the steady state level for capital per effective worker. It must be the case that k is rising to the left of B but falling to the right of B. We see that when k is small there must be a rapid growth in capital per effective worker but this growth rate falls as k approaches its steady state level. This dynamic is transferred to the growth dynamics of emissions, due to $g_E$ being constant in equation (16).    \n",
    "\n",
    "\n",
    "\n",
    "The EKC relationship described above is a combination of unsustainable and sustainable growth. In the early stages of economic development a country will exhibit unsustainable growth, that is $g_A<g_B+n$. Such that the scale effect dominates the technique effect, representing increasing emissions as income increases. This is generated by a low amount of capital, reflecting a high marginal product of capital. This leads to increased savings and investments thereby increasing income. As there is diminishing returns to capital, the growth rate of income will fall as the economy approaches its steady state level. As the growth in abatement technology is constant it will surpass the growth in income, generating the sustainable situation where the technique effect dominates the scale effect ($g_A>g_B+n$). Hence income will continue to rise but total emissions will start to decline. The EKC is not generated by increased awareness towards the environment, which would have been reflected by an increased abatement intensity ($\\theta$). It is only generated by the forces between the growth rates.  \n",
    "When deriving the above results, it was assumed that growth was sustainable such that T lied to the left of B ($g_E<0$), implying that the steady state level for capital per effective worker was reached after emissions peaked. However, a EKC will not necessarily arise even in the sustainable case. If the initial capital stock lies between point T and B, then there will be ever declining emissions, since the turning point (T) has been surpassed.  \n",
    "It is also possible that growth is not sustainable ($g_E>0$). If growth is not sustainable then T would lie to the right of B. In this scenario emissions will continue to rise towards infinity, but as capital per effective worker approaches its steady state level the growth rate of total emissions will fall. However, in the balanced growth path emissions will continue to rise.   \n",
    "As the above analysis shows there exists a turning point for total emissions (under appropriate conditions). It is however not the case that the level of total emissions, nor income per capita will be unique at this turning point. To verify this consider two economies with an identical level of capital per effective worker that both are at $k(T)$. If one of the economies has a lower working population, but a more effective one, then income per capita will differ at the turning point. The same reasoning can explain why the peak level of emissions may differ. A larger economy will have higher emissions at any time, as they naturally pollute more, but might have the same capital per effective worker."
   ]
  }
 ],
 "metadata": {
  "kernelspec": {
   "display_name": "Python 3",
   "language": "python",
   "name": "python3"
  },
  "language_info": {
   "codemirror_mode": {
    "name": "ipython",
    "version": 3
   },
   "file_extension": ".py",
   "mimetype": "text/x-python",
   "name": "python",
   "nbconvert_exporter": "python",
   "pygments_lexer": "ipython3",
   "version": "3.7.1"
  }
 },
 "nbformat": 4,
 "nbformat_minor": 2
}
