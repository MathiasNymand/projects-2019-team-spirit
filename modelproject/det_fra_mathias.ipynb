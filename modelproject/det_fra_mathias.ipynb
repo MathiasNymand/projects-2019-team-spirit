{
 "cells": [
  {
   "cell_type": "code",
   "execution_count": 329,
   "metadata": {},
   "outputs": [],
   "source": [
    "## Importing stuff \n",
    "\n",
    "import numpy as np\n",
    "from scipy import linalg\n",
    "from scipy import optimize\n",
    "import sympy as sm\n",
    "sm.init_printing(use_unicode=True)\n",
    "import matplotlib.pyplot as plt\n",
    "import math\n",
    "import ipywidgets as widgets\n",
    "\n",
    "%matplotlib inline\n",
    "import matplotlib.pyplot as plt\n",
    "import ipywidgets as widgets"
   ]
  },
  {
   "cell_type": "code",
   "execution_count": 330,
   "metadata": {},
   "outputs": [],
   "source": [
    "K = sm.symbols('K')\n",
    "L = sm.symbols('L')\n",
    "Y = sm.symbols('Y')\n",
    "B = sm.symbols('B')\n",
    "Q = sm.symbols('Q')\n",
    "R = sm.symbols('R')\n",
    "E = sm.symbols('E')\n",
    "z = sm.symbols('z')\n",
    "Omega = sm.symbols('Omega')\n",
    "alpha = sm.symbols('alpha')\n",
    "delta = sm.symbols('delta')\n",
    "s = sm.symbols('s')\n",
    "g_a = sm.symbols('g_a')\n",
    "n = sm.symbols('n')\n",
    "theta = sm.symbols('theta')\n",
    "A = sm.symbols('A')\n",
    "epsilon = sm.symbols('epsilon')\n",
    "B_t = sm.symbols('B_t')\n",
    "K_t = sm.symbols('K_t')\n",
    "L_t = sm.symbols('L_t')\n",
    "Omega_t = sm.symbols('Omega_t')\n",
    "k_t = sm.symbols('k_t')\n",
    "k = sm.symbols('k')\n",
    "y = sm.symbols('y')\n",
    "L_0 = sm.symbols('L_0')\n",
    "t = sm.symbols('t')\n",
    "g_b = sm.symbols('g_b')\n",
    "B_0 = sm.symbols('B_0')\n",
    "Omega_0 = sm.symbols('Omega_0')"
   ]
  },
  {
   "cell_type": "code",
   "execution_count": 334,
   "metadata": {},
   "outputs": [
    {
     "ename": "SyntaxError",
     "evalue": "invalid syntax (<lambdifygenerated-16>, line 1)",
     "output_type": "error",
     "traceback": [
      "Traceback \u001b[1;36m(most recent call last)\u001b[0m:\n",
      "  File \u001b[0;32m\"C:\\ProgramData\\Anaconda3\\lib\\site-packages\\IPython\\core\\interactiveshell.py\"\u001b[0m, line \u001b[0;32m3267\u001b[0m, in \u001b[0;35mrun_code\u001b[0m\n    exec(code_obj, self.user_global_ns, self.user_ns)\n",
      "  File \u001b[0;32m\"<ipython-input-334-d16edc3c556c>\"\u001b[0m, line \u001b[0;32m8\u001b[0m, in \u001b[0;35m<module>\u001b[0m\n    tc_func = sm.lambdify((s,g_b,n,delta,alpha,theta),tcc)\n",
      "\u001b[1;36m  File \u001b[1;32m\"C:\\ProgramData\\Anaconda3\\lib\\site-packages\\sympy\\utilities\\lambdify.py\"\u001b[1;36m, line \u001b[1;32m476\u001b[1;36m, in \u001b[1;35mlambdify\u001b[1;36m\u001b[0m\n\u001b[1;33m    c = compile(funcstr, filename, 'exec')\u001b[0m\n",
      "\u001b[1;36m  File \u001b[1;32m\"<lambdifygenerated-16>\"\u001b[1;36m, line \u001b[1;32m1\u001b[0m\n\u001b[1;33m    def _lambdifygenerated(0.25, 0.015, 0.01, 0.035, 0.25, 0.05):\u001b[0m\n\u001b[1;37m                              ^\u001b[0m\n\u001b[1;31mSyntaxError\u001b[0m\u001b[1;31m:\u001b[0m invalid syntax\n"
     ]
    }
   ],
   "source": [
    "## Transistions ligning\n",
    "\n",
    "f=k**alpha\n",
    "tc=sm.Eq(0,(s*(1-theta)*k**alpha-(delta+g_b+n)*k))\n",
    "tcc=sm.solve(tc,k)\n",
    "tcc\n",
    "\n",
    "tc_func = sm.lambdify((s,g_b,n,delta,alpha,theta),tcc)\n",
    "tc_func(0.25,0.015,0.01,0.035,0.25,0.05)\n"
   ]
  },
  {
   "cell_type": "code",
   "execution_count": 332,
   "metadata": {},
   "outputs": [],
   "source": [
    "\n",
    "s = 0.25\n",
    "g_b = 0.015\n",
    "n = 0.01\n",
    "alpha = 0.25\n",
    "delta = 0.035\n",
    "theta = 0.05\n",
    "g_a = 0.03"
   ]
  },
  {
   "cell_type": "code",
   "execution_count": 333,
   "metadata": {},
   "outputs": [
    {
     "data": {
      "image/png": "[encoded data removed]",
      "text/latex": [
       "$$6.261568722311015$$"
      ],
      "text/plain": [
       "6.261568722311015"
      ]
     },
     "execution_count": 333,
     "metadata": {},
     "output_type": "execute_result"
    }
   ],
   "source": [
    "obj_kss = lambda k: 0 - (s*(1-theta)*k**alpha-(delta+g_b+n)*k)\n",
    "result = optimize.newton(obj_kss,x0=1)\n",
    "result\n"
   ]
  },
  {
   "cell_type": "code",
   "execution_count": null,
   "metadata": {},
   "outputs": [],
   "source": []
  },
  {
   "cell_type": "code",
   "execution_count": 322,
   "metadata": {},
   "outputs": [],
   "source": [
    "def invest_per_work(k, theta):\n",
    "    return (s*(1-theta)*k**alpha)\n",
    "def break_even(k):\n",
    "    return (delta+g_b+n)*k"
   ]
  },
  {
   "cell_type": "code",
   "execution_count": 323,
   "metadata": {},
   "outputs": [],
   "source": [
    "x_vec = np.linspace(0,50,50)\n",
    "#theta=np.linspace(0.001,1,100)"
   ]
  },
  {
   "cell_type": "code",
   "execution_count": null,
   "metadata": {
    "scrolled": true
   },
   "outputs": [],
   "source": [
    "\n"
   ]
  },
  {
   "cell_type": "code",
   "execution_count": 350,
   "metadata": {},
   "outputs": [],
   "source": [
    "def transition_diagram(theta):\n",
    "    \n",
    "    fig = plt.figure(figsize=(7,4)) # create the figure\n",
    "    plt.xlabel('k')\n",
    "    investment=invest_per_work(x_vec,theta)\n",
    "    break_even_cap=break_even(x_vec)\n",
    "\n",
    "    \n",
    "    plt.title('Green solow transition diagram')\n",
    "    ax = fig.add_subplot(1,1,1) # create a 3d axis in the figure \n",
    "    ax.plot(break_even_cap, label='Break even'); # create surface plot in the axis\n",
    "    ax.plot(investment, label='Capital accumulation'); # create surface plot in the axis\n",
    "    ax.set_xlim([0,50]) # fixed x range\n",
    "    ax.set_yticklabels([])\n",
    "    plt.legend()\n"
   ]
  },
  {
   "cell_type": "code",
   "execution_count": 351,
   "metadata": {
    "scrolled": false
   },
   "outputs": [
    {
     "data": {
      "application/vnd.jupyter.widget-view+json": {
       "model_id": "d031532b3c594242918ada0be9030244",
       "version_major": 2,
       "version_minor": 0
      },
      "text/plain": [
       "interactive(children=(FloatSlider(value=0.5, description='$Theta$', max=1.0, min=0.005, step=0.05), Output()),…"
      ]
     },
     "metadata": {},
     "output_type": "display_data"
    }
   ],
   "source": [
    "widgets.interact(transition_diagram,\n",
    "    \n",
    "    theta=widgets.FloatSlider(description=\"$Theta$\", min=0.005, max=1, step=0.05, value=0.5),\n",
    "    #x_vec=widgets.float(x_vec),\n",
    "    \n",
    ");"
   ]
  },
  {
   "cell_type": "code",
   "execution_count": 328,
   "metadata": {},
   "outputs": [
    {
     "ename": "SyntaxError",
     "evalue": "invalid syntax (<lambdifygenerated-14>, line 1)",
     "output_type": "error",
     "traceback": [
      "Traceback \u001b[1;36m(most recent call last)\u001b[0m:\n",
      "  File \u001b[0;32m\"C:\\ProgramData\\Anaconda3\\lib\\site-packages\\IPython\\core\\interactiveshell.py\"\u001b[0m, line \u001b[0;32m3267\u001b[0m, in \u001b[0;35mrun_code\u001b[0m\n    exec(code_obj, self.user_global_ns, self.user_ns)\n",
      "  File \u001b[0;32m\"<ipython-input-328-7f732a9cbdc8>\"\u001b[0m, line \u001b[0;32m12\u001b[0m, in \u001b[0;35m<module>\u001b[0m\n    max_emis_func = sm.lambdify((s,g_b,n,delta,alpha,theta,g_a),max_emis_k)\n",
      "\u001b[1;36m  File \u001b[1;32m\"C:\\ProgramData\\Anaconda3\\lib\\site-packages\\sympy\\utilities\\lambdify.py\"\u001b[1;36m, line \u001b[1;32m476\u001b[1;36m, in \u001b[1;35mlambdify\u001b[1;36m\u001b[0m\n\u001b[1;33m    c = compile(funcstr, filename, 'exec')\u001b[0m\n",
      "\u001b[1;36m  File \u001b[1;32m\"<lambdifygenerated-14>\"\u001b[1;36m, line \u001b[1;32m1\u001b[0m\n\u001b[1;33m    def _lambdifygenerated(0.25, 0.015, 0.01, 0.035, 0.25, 0.05, 0.03):\u001b[0m\n\u001b[1;37m                              ^\u001b[0m\n\u001b[1;31mSyntaxError\u001b[0m\u001b[1;31m:\u001b[0m invalid syntax\n"
     ]
    }
   ],
   "source": [
    "# Max emision\n",
    "\n",
    "\n",
    "\n",
    "f=k**alpha\n",
    "max_emis=sm.Eq(0,(alpha*s*(1-theta)*k**(alpha-1)-(alpha*(delta+g_b+n)-(g_b+n-g_a))))\n",
    "max_emis_k=sm.solve(max_emis,k)\n",
    "max_emis_k\n",
    "\n",
    "\n",
    "\n",
    "max_emis_func = sm.lambdify((s,g_b,n,delta,alpha,theta,g_a),max_emis_k)\n",
    "max_emis_func(0.25,0.015,0.01,0.035,0.25,0.05,0.03)\n",
    "\n",
    "\n",
    "\n",
    "\n",
    "\n",
    "\n"
   ]
  },
  {
   "cell_type": "code",
   "execution_count": 354,
   "metadata": {},
   "outputs": [],
   "source": [
    "def ekc(k, theta):\n",
    "    return (alpha*s*(1-theta)*k**(alpha-1)-(alpha*(delta+g_b+n)-(g_b+n-g_a)))\n",
    "\n",
    "\n",
    "\n",
    "\n",
    "x_vec2 = np.linspace(0.01,10,50)"
   ]
  },
  {
   "cell_type": "code",
   "execution_count": 355,
   "metadata": {},
   "outputs": [],
   "source": [
    "def ekc_diagram(theta):\n",
    "    fig = plt.figure(figsize=(7,4)) # create the figure\n",
    "    plt.xlabel('k')\n",
    "    ekc_calc=ekc(x_vec2, theta)\n",
    "    plt.title('EK - curve')\n",
    "    ax = fig.add_subplot(1,1,1) # create a 3d axis in the figure \n",
    "    ax.plot(ekc_calc, label='the ekc'); # create surface plot in the axis\n",
    "    ax.set_xlim([0,10]) # fixed x range\n",
    "    \n",
    "    ax.set_yticklabels([])\n",
    "    plt.legend()\n",
    "\n",
    "    \n",
    "    \n",
    "    \n",
    "  "
   ]
  },
  {
   "cell_type": "code",
   "execution_count": 357,
   "metadata": {},
   "outputs": [
    {
     "data": {
      "application/vnd.jupyter.widget-view+json": {
       "model_id": "5cc14ca860f641818054e4c6b857056a",
       "version_major": 2,
       "version_minor": 0
      },
      "text/plain": [
       "interactive(children=(FloatSlider(value=0.05, description='$Theta$', max=1.0, min=0.005, step=0.05), Output())…"
      ]
     },
     "metadata": {},
     "output_type": "display_data"
    }
   ],
   "source": [
    "widgets.interact(ekc_diagram,\n",
    "    \n",
    "    theta=widgets.FloatSlider(description=\"$Theta$\", min=0.005, max=1, step=0.05, value=0.05),\n",
    "    #x_vec=widgets.float(x_vec),\n",
    "    \n",
    ");"
   ]
  },
  {
   "cell_type": "code",
   "execution_count": null,
   "metadata": {},
   "outputs": [],
   "source": []
  },
  {
   "cell_type": "code",
   "execution_count": null,
   "metadata": {},
   "outputs": [],
   "source": []
  }
 ],
 "metadata": {
  "kernelspec": {
   "display_name": "Python 3",
   "language": "python",
   "name": "python3"
  },
  "language_info": {
   "codemirror_mode": {
    "name": "ipython",
    "version": 3
   },
   "file_extension": ".py",
   "mimetype": "text/x-python",
   "name": "python",
   "nbconvert_exporter": "python",
   "pygments_lexer": "ipython3",
   "version": "3.7.1"
  }
 },
 "nbformat": 4,
 "nbformat_minor": 2
}
