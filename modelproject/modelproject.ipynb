{
 "cells": [
  {
   "cell_type": "markdown",
   "metadata": {},
   "source": [
    "# Model Project"
   ]
  },
  {
   "cell_type": "code",
   "execution_count": 38,
   "metadata": {},
   "outputs": [],
   "source": [
    "## Importing packages \n",
    "\n",
    "import numpy as np\n",
    "from scipy import linalg\n",
    "from scipy import optimize\n",
    "import sympy as sm\n",
    "sm.init_printing(use_unicode=True)\n",
    "import matplotlib.pyplot as plt\n",
    "import math"
   ]
  },
  {
   "cell_type": "code",
   "execution_count": 13,
   "metadata": {},
   "outputs": [],
   "source": [
    "# CODE WE MAY OR MAY NOT NEED\n",
    "\n",
    "# SYMBOLS\n",
    "\n",
    "\n",
    "# EQUATIONS\n",
    "gross_output=sm.Eq(Q,((K**alpha)*(B*L)**(1-alpha)))\n",
    "net_output=sm.Eq(Y,((1-theta)*Q))\n",
    "\n",
    "capital_acc=sm.Eq(K_t,(s*Y-delta*K))\n",
    "evo_lab=sm.Eq(L,(L_0*sm.exp(n*t)))\n",
    "tech_prog=sm.Eq(B,((B_0*sm.exp(g_b*t))))\n",
    "\n",
    "theta_f=sm.Eq(theta,(R/Q))\n",
    "tot_emis=sm.Eq(E,(Omega_0*sm.exp(-g_a*t)*Q*(1-theta)**epsilon))\n",
    "evo_emis_coef=sm.Eq(Omega_t,(-g_a*Omega))\n",
    "emis_coef=sm.Eq(Omega,(Omega_0*sm.exp(-g_a*t)))\n",
    "\n",
    "evo_emis_coef2=sm.Eq(0,(-g_a*Omega)-Omega_t)\n",
    "emis_coef2=sm.Eq(0,(Omega_0*sm.exp(-g_a*t))-Omega)"
   ]
  },
  {
   "cell_type": "markdown",
   "metadata": {},
   "source": [
    "## The Green Solow Model"
   ]
  },
  {
   "cell_type": "markdown",
   "metadata": {},
   "source": [
    "Our assignment builds on the original Solow model that was presented by Solow and Swan (1956). The standard Solow model is given by these equations:  \n",
    "$Q=F(K,BL)=K^\\alpha BL^{1-\\alpha},$ &nbsp;&nbsp;&nbsp;&nbsp;&nbsp;&nbsp;   $1>\\alpha>0$    \n",
    "$\\dot{K}=sY-\\delta K$  \n",
    "$\\dot{L}=nL \\Rightarrow L=L_0 e^{nt} $  \n",
    "$\\dot{B}=g_B B \\Rightarrow B=B_0 e^{g_Bt},$ &nbsp;&nbsp;&nbsp;&nbsp;&nbsp;&nbsp; $1>g_B>0$\n",
    "\n",
    "The first equation shows a simple Cobb-Douglas production function where the production of gross output, Q, is made through Capital, K, and effective labour, BL. It can be shown that the production function exhibits constant return to scale.  \n",
    "The second equation is describing the evolution of capital, where, s, is a fixed savings rate of net output, Y. From equation 2 we see that the capital is assumed to depreciate with a constant rate, $\\delta$.  \n",
    "The third equation presents the evolution of workers over time. We notice that the evoulution is given by a constant growth rate, n. \n",
    "Lastly, we see that the technological progress in the production of output is given by the exogenous growth rate, $g_B$.\n",
    "\n",
    "In this assignment we will be working with an exstention of the original Solow model. Namely, we will work with the Green Solow model developed by William A. Brock and M. Scott Taylor (2004). In their model they add a function describing total emissions, E, given by:  \n",
    "$E=\\Omega Q-\\Omega A(Q,R)$  \n",
    "This simply shows that total emissions is given by the amount of pullution produced minus the amount of pollution abated.  \n",
    "$\\Omega$ is the fraction of pollution arising from the production of gross output, Q. It is important to notice that it is assumed that every unit of output generates the same fraction of pollution. Further, the equation shows that abatement exists in the economy. $(A(Q,R))$. The abatement has a negative effect on the total amount of emissions. Hence, abatement reduces the amount of pollution released into the atmosphere.\n",
    "\n",
    "In the Green Solow model it is assumed that the abatement function is a concave function that is increasing with gross output, Q, and the economy's effort at abatement, R. Hence, abatement has a diminishing effect on total emissions.\n",
    "\n",
    "When considering the Green Solow model there must be a lower amount available for consumption and investment due to the inclusion of abatement. We define this net output (income) as Y:  \n",
    "$Y=Q-R=(1-\\theta)Q$  \n",
    "We can rewrite this in order to understand how emissions are being affected in the Green Solow model.  \n",
    "$E=\\Omega (Q-A(Q,R))$  \n",
    "$E=\\Omega Q(1-A(1,\\frac{R}{Q})$  \n",
    "$E=\\Omega Q \\alpha(\\theta),$ &nbsp;&nbsp;&nbsp;&nbsp;&nbsp;&nbsp; $\\theta \\equiv \\frac{R}{Q}$ &nbsp;&nbsp;&nbsp;&nbsp;&nbsp;&nbsp; $\\alpha(\\theta) \\equiv 1-A(1,\\theta)$\n",
    "\n",
    "We notice that the emissions are affected by the scale of economic activity, Q. Further, we notice that the abatement intensity, $\\theta$ is assumed constant. There are more underlying mechanism in the Green Solow model such as the development in the fraction $\\Omega$ that we won't go into detail with due to the focus of this assignment.\n",
    "\n",
    "We are able to derive the model in output per effective worker since the production function has constant returns to scale. This implies that:  \n",
    "$Q=K^\\alpha (BL)^{1-\\alpha} \\Rightarrow q=k^\\alpha$ &nbsp;&nbsp;&nbsp;&nbsp;&nbsp;&nbsp; $q\\equiv \\frac{Q}{BL},$ &nbsp;&nbsp;&nbsp;&nbsp;&nbsp;&nbsp; $k\\equiv \\frac{K}{BL}$\n",
    "\n",
    "Using the above definitons we are now able to calculate the transition equation for capital per effective worker. When using the second equation and **the definitons just given** we get the following transition equation for capital per effective worker:  \n",
    "$\\dot{k}=s(1-\\theta)k^\\alpha-k(\\delta+g_B+n)$\n",
    "\n",
    "It can be shown that the growth rate for total emissions is given by:  \n",
    "$\\frac{\\dot{E}}{E}=g_E+\\alpha \\frac{\\dot{k}}{k},$ &nbsp;&nbsp;&nbsp;&nbsp;&nbsp;&nbsp; $g_E\\equiv g_B+n-g_A$\n",
    "\n",
    "When substituting for $\\frac{\\dot{k}}{k}$ we get:  \n",
    "$\\frac{\\dot{E}}{E}=\\alpha s(1-\\theta)k^{\\alpha-1}-[\\alpha(\\delta+g_B+n)-g_E]$\n",
    "\n",
    "When considering this equation we notice that the emissions will peak ($\\dot{E}=0$) when $\\alpha s(1-\\theta)k^{\\alpha-1}=[\\alpha(\\delta+g_B+n)-g_E]$"
   ]
  },
  {
   "cell_type": "code",
   "execution_count": 45,
   "metadata": {},
   "outputs": [],
   "source": [
    "# Stating the symbols and expressions used in the model\n",
    "\n",
    "# Symbols\n",
    "K = sm.symbols('K')\n",
    "L = sm.symbols('L')\n",
    "Y = sm.symbols('Y')\n",
    "B = sm.symbols('B')\n",
    "Q = sm.symbols('Q')\n",
    "R = sm.symbols('R')\n",
    "E = sm.symbols('E')\n",
    "z = sm.symbols('z')\n",
    "Omega = sm.symbols('Omega')\n",
    "alpha = sm.symbols('alpha')\n",
    "delta = sm.symbols('delta')\n",
    "s = sm.symbols('s')\n",
    "g_a = sm.symbols('g_a')\n",
    "n = sm.symbols('n')\n",
    "theta = sm.symbols('theta')\n",
    "A = sm.symbols('A')\n",
    "epsilon = sm.symbols('epsilon')\n",
    "B_t = sm.symbols('B_t')\n",
    "K_t = sm.symbols('K_t')\n",
    "L_t = sm.symbols('L_t')\n",
    "Omega_t = sm.symbols('Omega_t')\n",
    "k_t = sm.symbols('k_t')\n",
    "k = sm.symbols('k')\n",
    "y = sm.symbols('y')\n",
    "L_0 = sm.symbols('L_0')\n",
    "t = sm.symbols('t')\n",
    "g_b = sm.symbols('g_b')\n",
    "B_0 = sm.symbols('B_0')\n",
    "Omega_0 = sm.symbols('Omega_0')\n",
    "\n",
    "# Expressions\n",
    "f=k**alpha #Gross output pr. effective worker"
   ]
  },
  {
   "cell_type": "markdown",
   "metadata": {},
   "source": [
    "## 1. Steady State of The Green Solow Model\n",
    "\n",
    "Firstly we want to find the steady state of the Green Solow Model. In steady state capital does not change over time meaning that $\\dot{k}$ is equal to zero. We do this by setting the transition equation (as it is stated above) equal to zero and solving for capital, k."
   ]
  },
  {
   "cell_type": "code",
   "execution_count": 40,
   "metadata": {},
   "outputs": [
    {
     "data": {
      "image/png": "[encoded data removed]",
      "text/latex": [
       "$$\\left [ \\left(\\frac{s \\left(- \\theta + 1\\right)}{\\delta + g_{b} + n}\\right)^{- \\frac{1}{\\alpha - 1}}\\right ]$$"
      ],
      "text/plain": [
       "⎡              -1  ⎤\n",
       "⎢             ─────⎥\n",
       "⎢             α - 1⎥\n",
       "⎢⎛ s⋅(-θ + 1)⎞     ⎥\n",
       "⎢⎜───────────⎟     ⎥\n",
       "⎣⎝δ + g_b + n⎠     ⎦"
      ]
     },
     "execution_count": 40,
     "metadata": {},
     "output_type": "execute_result"
    }
   ],
   "source": [
    "# Stating the transition equation and setting it equal to zero\n",
    "tc=sm.Eq(0,(s*(1-theta)*k**alpha-(delta+g_b+n)*k)) \n",
    "\n",
    "# Solving the transition equation (tc) for k\n",
    "tcc=sm.solve(tc,k)\n",
    "tcc"
   ]
  },
  {
   "cell_type": "markdown",
   "metadata": {},
   "source": [
    "### 1.1  Analytical solution\n",
    "By stating the parameters and some realistic examples of parameter values we can find a numerical value for capital i the steady state."
   ]
  },
  {
   "cell_type": "code",
   "execution_count": 41,
   "metadata": {},
   "outputs": [
    {
     "data": {
      "image/png": "[encoded data removed]",
      "text/latex": [
       "$$\\left [ 6.261568722311015\\right ]$$"
      ],
      "text/plain": [
       "[6.261568722311015]"
      ]
     },
     "execution_count": 41,
     "metadata": {},
     "output_type": "execute_result"
    }
   ],
   "source": [
    "# Convert our tcc sympy function into a lambda function, making it possible to calculate a numerical values solution.\n",
    "tc_func = sm.lambdify((s,g_b,n,delta,alpha,theta),tcc)\n",
    "    \n",
    "# Adding numerical values to our parameters\n",
    "tc_func(0.25,0.015,0.01,0.035,0.25,0.05)"
   ]
  },
  {
   "cell_type": "markdown",
   "metadata": {},
   "source": [
    "In steady state capital is equal to 6.26."
   ]
  },
  {
   "cell_type": "markdown",
   "metadata": {},
   "source": [
    "### 1.2 Numerical Solution\n",
    "\n",
    "We also try to solve for capital in the steady state analytically."
   ]
  },
  {
   "cell_type": "code",
   "execution_count": 49,
   "metadata": {},
   "outputs": [],
   "source": [
    "# Assigning parameter values\n",
    "#s = 0.25\n",
    "#g_b = 0.015\n",
    "#n = 0.01\n",
    "#alpha = 0.25\n",
    "#delta = 0.035\n",
    "#theta = 0.05\n",
    "\n",
    "# Defining the transition equation as a lambda function\n",
    "#obj_kss = lambda k: 0 - (s*(1-theta)*k**alpha-(delta+g_b+n)*k)\n",
    "\n",
    "# Using the optimize.newton function to find a numerical solution for steady state\n",
    "#result = optimize.newton(obj_kss, x0=1)\n",
    "#result\n"
   ]
  },
  {
   "cell_type": "markdown",
   "metadata": {},
   "source": [
    "The numerical solution is as expected the same as the analytical."
   ]
  },
  {
   "cell_type": "markdown",
   "metadata": {},
   "source": [
    "## 2. Emissions in the Green Solow Model\n",
    "\n",
    "The Green Solow Model also predicts when the peak of emission occur depending on the abatement intensity, $\\theta$. In the following  we solve for k, at the peak of emissions like we did with the transitions equation. We use the emission euqation (...) for this. As emissions over time does not change at the peak we set $\\dot{E}$ equal zero.\n",
    "We choose only to use an analytical solution when solving for k at the peak of emissions."
   ]
  },
  {
   "cell_type": "code",
   "execution_count": 46,
   "metadata": {},
   "outputs": [
    {
     "data": {
      "image/png": "[encoded data removed]",
      "text/latex": [
       "$$\\left [ \\left(\\frac{- \\alpha \\delta - \\alpha g_{b} - \\alpha n - g_{a} + g_{b} + n}{\\alpha s \\left(\\theta - 1\\right)}\\right)^{\\frac{1}{\\alpha - 1}}\\right ]$$"
      ],
      "text/plain": [
       "⎡                                     1  ⎤\n",
       "⎢                                   ─────⎥\n",
       "⎢                                   α - 1⎥\n",
       "⎢⎛-α⋅δ - α⋅g_b - α⋅n - gₐ + g_b + n⎞     ⎥\n",
       "⎢⎜─────────────────────────────────⎟     ⎥\n",
       "⎣⎝           α⋅s⋅(θ - 1)           ⎠     ⎦"
      ]
     },
     "execution_count": 46,
     "metadata": {},
     "output_type": "execute_result"
    }
   ],
   "source": [
    "# Stating the emision equation and setting it equal to zero\n",
    "max_emis=sm.Eq(0,(alpha*s*(1-theta)*k**(alpha-1)-(alpha*(delta+g_b+n)-(g_b+n-g_a))))\n",
    "\n",
    "# Solving the emission equation (max_emis) for k\n",
    "max_emis_k=sm.solve(max_emis,k)\n",
    "max_emis_k\n"
   ]
  },
  {
   "cell_type": "code",
   "execution_count": 47,
   "metadata": {},
   "outputs": [
    {
     "data": {
      "image/png": "[encoded data removed]",
      "text/latex": [
       "$$\\left [ 4.266759550779367\\right ]$$"
      ],
      "text/plain": [
       "[4.266759550779367]"
      ]
     },
     "execution_count": 47,
     "metadata": {},
     "output_type": "execute_result"
    }
   ],
   "source": [
    "max_emis_func = sm.lambdify((s,g_b,n,delta,alpha,theta,g_a),max_emis_k)\n",
    "max_emis_func(0.25,0.015,0.01,0.035,0.25,0.05,0.03)"
   ]
  },
  {
   "cell_type": "code",
   "execution_count": null,
   "metadata": {},
   "outputs": [],
   "source": []
  }
 ],
 "metadata": {
  "kernelspec": {
   "display_name": "Python 3",
   "language": "python",
   "name": "python3"
  },
  "language_info": {
   "codemirror_mode": {
    "name": "ipython",
    "version": 3
   },
   "file_extension": ".py",
   "mimetype": "text/x-python",
   "name": "python",
   "nbconvert_exporter": "python",
   "pygments_lexer": "ipython3",
   "version": "3.7.1"
  }
 },
 "nbformat": 4,
 "nbformat_minor": 2
}
