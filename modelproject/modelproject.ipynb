{
 "cells": [
  {
   "cell_type": "markdown",
   "metadata": {},
   "source": [
    "# Model Project"
   ]
  },
  {
   "cell_type": "code",
   "execution_count": 4,
   "metadata": {},
   "outputs": [],
   "source": [
    "## Importing packages \n",
    "\n",
    "import numpy as np\n",
    "from scipy import linalg\n",
    "from scipy import optimize\n",
    "import sympy as sm\n",
    "sm.init_printing(use_unicode=True)\n",
    "import matplotlib.pyplot as plt\n",
    "import math\n",
    "import ipywidgets as widgets\n",
    "import time\n",
    "%matplotlib inline\n",
    "import matplotlib.pyplot as plt\n",
    "import ipywidgets as widgets"
   ]
  },
  {
   "cell_type": "code",
   "execution_count": 5,
   "metadata": {},
   "outputs": [],
   "source": [
    "#Running python file to define variables\n",
    "exec(open(\"Def_variables.py\").read())"
   ]
  },
  {
   "cell_type": "markdown",
   "metadata": {},
   "source": [
    "## The Green Solow Model"
   ]
  },
  {
   "cell_type": "markdown",
   "metadata": {},
   "source": [
    "Our assignment builds on the original Solow model that was presented by Solow and Swan (1956). The standard Solow model is given by these equations:  \n",
    "$Q=F(K,BL)=K^\\alpha BL^{1-\\alpha},$ &nbsp;&nbsp;&nbsp;&nbsp;&nbsp;&nbsp;   $1>\\alpha>0$    \n",
    "$\\dot{K}=sY-\\delta K$  \n",
    "$\\dot{L}=nL \\Rightarrow L=L_0 e^{nt} $  \n",
    "$\\dot{B}=g_B B \\Rightarrow B=B_0 e^{g_Bt},$ &nbsp;&nbsp;&nbsp;&nbsp;&nbsp;&nbsp; $1>g_B>0$\n",
    "\n",
    "The first equation shows a simple Cobb-Douglas production function where the production of gross output, Q, is made through Capital, K, and effective labour, BL. It can be shown that the production function exhibits constant return to scale.  \n",
    "The second equation is describing the evolution of capital, where, s, is a fixed savings rate of net output, Y. From equation 2 we see that the capital is assumed to depreciate with a constant rate, $\\delta$.  \n",
    "The third equation presents the evolution of workers over time. We notice that the evoulution is given by a constant growth rate, n. \n",
    "Lastly, we see that the technological progress in the production of output is given by the exogenous growth rate, $g_B$.\n",
    "\n",
    "In this assignment we will be working with an exstention of the original Solow model. Namely, we will work with the Green Solow model developed by William A. Brock and M. Scott Taylor (2004). In their model they add a function describing total emissions, E, given by:  \n",
    "$E=\\Omega Q-\\Omega A(Q,R)$  \n",
    "This simply shows that total emissions is given by the amount of pullution produced minus the amount of pollution abated.  \n",
    "$\\Omega$ is the fraction of pollution arising from the production of gross output, Q. It is important to notice that it is assumed that every unit of output generates the same fraction of pollution. Further, the equation shows that abatement exists in the economy. $(A(Q,R))$. The abatement has a negative effect on the total amount of emissions. Hence, abatement reduces the amount of pollution released into the atmosphere.\n",
    "\n",
    "In the Green Solow model it is assumed that the abatement function is a concave function that is increasing with gross output, Q, and the economy's effort at abatement, R. Hence, abatement has a diminishing effect on total emissions.\n",
    "\n",
    "When considering the Green Solow model there must be a lower amount available for consumption and investment due to the inclusion of abatement. We define this net output (income) as Y:  \n",
    "$Y=Q-R=(1-\\theta)Q$  \n",
    "We can rewrite this in order to understand how emissions are being affected in the Green Solow model.  \n",
    "$E=\\Omega (Q-A(Q,R))$  \n",
    "$E=\\Omega Q(1-A(1,\\frac{R}{Q})$  \n",
    "$E=\\Omega Q \\alpha(\\theta),$ &nbsp;&nbsp;&nbsp;&nbsp;&nbsp;&nbsp; $\\theta \\equiv \\frac{R}{Q}$ &nbsp;&nbsp;&nbsp;&nbsp;&nbsp;&nbsp; $\\alpha(\\theta) \\equiv 1-A(1,\\theta)$\n",
    "\n",
    "We notice that the emissions are affected by the scale of economic activity, Q. Further, we notice that the abatement intensity, $\\theta$ is assumed constant. There are more underlying mechanism in the Green Solow model such as the development in the fraction $\\Omega$ that we won't go into detail with due to the focus of this assignment.\n",
    "\n",
    "We are able to derive the model in output per effective worker since the production function has constant returns to scale. This implies that:  \n",
    "$Q=K^\\alpha (BL)^{1-\\alpha} \\Rightarrow q=k^\\alpha$ &nbsp;&nbsp;&nbsp;&nbsp;&nbsp;&nbsp; $q\\equiv \\frac{Q}{BL},$ &nbsp;&nbsp;&nbsp;&nbsp;&nbsp;&nbsp; $k\\equiv \\frac{K}{BL}$\n",
    "\n",
    "Using the above definitons we are now able to calculate the transition equation for capital per effective worker. When using the second equation and **the definitons just given** we get the following transition equation for capital per effective worker:  \n",
    "$\\dot{k}=s(1-\\theta)k^\\alpha-k(\\delta+g_B+n)$\n",
    "\n",
    "It can be shown that the growth rate for total emissions is given by:  \n",
    "$\\frac{\\dot{E}}{E}=g_E+\\alpha \\frac{\\dot{k}}{k},$ &nbsp;&nbsp;&nbsp;&nbsp;&nbsp;&nbsp; $g_E\\equiv g_B+n-g_A$\n",
    "\n",
    "When substituting for $\\frac{\\dot{k}}{k}$ we get:  \n",
    "$\\frac{\\dot{E}}{E}=\\alpha s(1-\\theta)k^{\\alpha-1}-[\\alpha(\\delta+g_B+n)-g_E]$\n",
    "\n",
    "When considering this equation we notice that the emissions will peak ($\\dot{E}=0$) when $\\alpha s(1-\\theta)k^{\\alpha-1}=[\\alpha(\\delta+g_B+n)-g_E]$"
   ]
  },
  {
   "cell_type": "markdown",
   "metadata": {},
   "source": [
    "## 1. Steady State of The Green Solow Model\n",
    "\n",
    "Firstly we want to find the steady state of the Green Solow Model. In steady state capital does not change over time meaning that $\\dot{k}$ is equal to zero. We do this by setting the transition equation (as it is stated above) equal to zero and solving for capital, k."
   ]
  },
  {
   "cell_type": "code",
   "execution_count": 6,
   "metadata": {},
   "outputs": [
    {
     "data": {
      "image/png": "[encoded data removed]",
      "text/latex": [
       "$$\\left [ \\left(\\frac{s \\left(- \\theta + 1\\right)}{\\delta + g_{b} + n}\\right)^{- \\frac{1}{\\alpha - 1}}\\right ]$$"
      ],
      "text/plain": [
       "⎡              -1  ⎤\n",
       "⎢             ─────⎥\n",
       "⎢             α - 1⎥\n",
       "⎢⎛ s⋅(-θ + 1)⎞     ⎥\n",
       "⎢⎜───────────⎟     ⎥\n",
       "⎣⎝δ + g_b + n⎠     ⎦"
      ]
     },
     "execution_count": 6,
     "metadata": {},
     "output_type": "execute_result"
    }
   ],
   "source": [
    "# Stating the transition equation and setting it equal to zero\n",
    "f=k**alpha\n",
    "tc=sm.Eq(0,(s*(1-theta)*k**alpha-(delta+g_b+n)*k))\n",
    "\n",
    "# Solving the transition equation (tc) for k\n",
    "tcc=sm.solve(tc,k)\n",
    "tcc\n"
   ]
  },
  {
   "cell_type": "markdown",
   "metadata": {},
   "source": [
    "### 1.1  Analytical solution\n",
    "By stating the parameters and some realistic examples of parameter values we can find a numerical value for capital i the steady state."
   ]
  },
  {
   "cell_type": "code",
   "execution_count": 67,
   "metadata": {},
   "outputs": [
    {
     "data": {
      "image/png": "[encoded data removed]",
      "text/latex": [
       "$$\\left [ 2.660796640255392\\right ]$$"
      ],
      "text/plain": [
       "[2.660796640255392]"
      ]
     },
     "execution_count": 67,
     "metadata": {},
     "output_type": "execute_result"
    }
   ],
   "source": [
    "# Converting our tcc sympy function into a lambda function, making it possible to calculate a numerical value solution.\n",
    "tc_func = sm.lambdify((s,g_b,n,delta,alpha,theta),tcc)\n",
    "    \n",
    "# Adding numerical values to our parameters\n",
    "tc_func(0.25,0.015,0.01,0.035,0.25,0.05)"
   ]
  },
  {
   "cell_type": "markdown",
   "metadata": {},
   "source": [
    "In steady state capital is equal to 6.26."
   ]
  },
  {
   "cell_type": "markdown",
   "metadata": {},
   "source": [
    "### 1.2 Numerical Solution\n",
    "\n",
    "We also try to solve for capital in the steady state analytically."
   ]
  },
  {
   "cell_type": "code",
   "execution_count": 7,
   "metadata": {},
   "outputs": [
    {
     "data": {
      "image/png": "[encoded data removed]",
      "text/latex": [
       "$$6.261568722311015$$"
      ],
      "text/plain": [
       "6.261568722311015"
      ]
     },
     "execution_count": 7,
     "metadata": {},
     "output_type": "execute_result"
    }
   ],
   "source": [
    "# Running python file to define parameter values\n",
    "exec(open(\"Def_values.py\").read())\n",
    "\n",
    "# Defining our steady state as a lambda function\n",
    "obj_kss = lambda k: 0 - (s*(1-theta)*k**alpha-(delta+g_b+n)*k)\n",
    "\n",
    "# optimize.newton uses a numerical solution to find a numerical value solution to our steady state\n",
    "result = optimize.newton(obj_kss,x0=1)\n",
    "result"
   ]
  },
  {
   "cell_type": "markdown",
   "metadata": {},
   "source": [
    "The numerical solution is as expected the same as the analytical.\n",
    "\n",
    "### 1.3 Transition Diagram\n",
    "\n",
    "We now want to illustrate steady state in a transition diagram. The diagram shows how capital evolves over time and reaches steady state at the intersect."
   ]
  },
  {
   "cell_type": "code",
   "execution_count": 21,
   "metadata": {},
   "outputs": [],
   "source": [
    "#\n",
    "def invest_per_work2(k, theta,alpha,s):\n",
    "    return (s*(1-theta)*k**alpha)\n",
    "def break_even(k):\n",
    "    return (delta+g_b+n)*k"
   ]
  },
  {
   "cell_type": "code",
   "execution_count": 22,
   "metadata": {},
   "outputs": [],
   "source": [
    "# Defining the k values of the function\n",
    "x_vec = np.linspace(0,50,50)"
   ]
  },
  {
   "cell_type": "code",
   "execution_count": 23,
   "metadata": {},
   "outputs": [],
   "source": [
    "def transition_diagram2(theta,alpha,s):\n",
    "    \n",
    "    fig = plt.figure(figsize=(7,4)) # create the figure\n",
    "    plt.xlabel('k')\n",
    "    investment=invest_per_work2(x_vec,theta,alpha,s)\n",
    "    break_even_cap=break_even(x_vec)\n",
    "\n",
    "    \n",
    "    plt.title('Green solow transition diagram')\n",
    "    ax = fig.add_subplot(1,1,1) # create a 3d axis in the figure \n",
    "    ax.plot(break_even_cap, label='$(\\delta+g_B+n)\\cdot k$'); # create surface plot in the axis\n",
    "    ax.plot(investment, label='$s \\cdot (1-\\\\theta)\\cdot k^\\\\alpha $'); # create surface plot in the axis\n",
    "    ax.set_xlim([0,50]) # fixed x range\n",
    "    ax.set_yticklabels([])\n",
    "    plt.legend()\n"
   ]
  },
  {
   "cell_type": "code",
   "execution_count": 24,
   "metadata": {},
   "outputs": [
    {
     "data": {
      "application/vnd.jupyter.widget-view+json": {
       "model_id": "f772b58ed9fd4b388e21127bc5366711",
       "version_major": 2,
       "version_minor": 0
      },
      "text/plain": [
       "interactive(children=(FloatSlider(value=0.05, description='$Theta$', max=1.0, step=0.01), FloatSlider(value=0.…"
      ]
     },
     "metadata": {},
     "output_type": "display_data"
    }
   ],
   "source": [
    "widgets.interact(transition_diagram2,\n",
    "    \n",
    "    theta=widgets.FloatSlider(description=\"$Theta$\", min=0, max=1, step=0.01, value=0.05),\n",
    "    alpha=widgets.FloatSlider(description=\"$Alpha$\", min=0, max=1, step=0.01, value=0.25),\n",
    "    s=widgets.FloatSlider(description=\"$s$\", min=0, max=1, step=0.01, value=0.25),\n",
    "    \n",
    ");"
   ]
  },
  {
   "cell_type": "markdown",
   "metadata": {},
   "source": [
    "Comment on the figure!!"
   ]
  },
  {
   "cell_type": "markdown",
   "metadata": {},
   "source": [
    "## 2. Emissions in the Green Solow Model\n",
    "\n",
    "### 2.1 Peak of Emmisions\n",
    "The Green Solow Model also predicts when the peak of emission occur depending on the abatement intensity, $\\theta$. In the following,  we solve for k, at the peak of emissions like we did with the transitions equation. We use the emission euqation (...) for this. As emissions over time does not change at the peak we set $\\dot{E}$ equal zero.\n",
    "We choose only to use an analytical solution when solving for k at the peak of emissions."
   ]
  },
  {
   "cell_type": "code",
   "execution_count": 27,
   "metadata": {},
   "outputs": [],
   "source": [
    "# Running python file defining variables to remove the previously set parameter values\n",
    "exec(open(\"Def_variables.py\").read())"
   ]
  },
  {
   "cell_type": "code",
   "execution_count": 26,
   "metadata": {},
   "outputs": [
    {
     "data": {
      "image/png": "[encoded data removed]",
      "text/latex": [
       "$$\\left [ \\left(\\frac{- \\alpha \\delta - \\alpha g_{b} - \\alpha n - g_{a} + g_{b} + n}{\\alpha s \\left(\\theta - 1\\right)}\\right)^{\\frac{1}{\\alpha - 1}}\\right ]$$"
      ],
      "text/plain": [
       "⎡                                     1  ⎤\n",
       "⎢                                   ─────⎥\n",
       "⎢                                   α - 1⎥\n",
       "⎢⎛-α⋅δ - α⋅g_b - α⋅n - gₐ + g_b + n⎞     ⎥\n",
       "⎢⎜─────────────────────────────────⎟     ⎥\n",
       "⎣⎝           α⋅s⋅(θ - 1)           ⎠     ⎦"
      ]
     },
     "execution_count": 26,
     "metadata": {},
     "output_type": "execute_result"
    }
   ],
   "source": [
    "# Stating the emision equation and setting it equal to zero\n",
    "max_emis=sm.Eq(0,(alpha*s*(1-theta)*k**(alpha-1)-(alpha*(delta+g_b+n)-(g_b+n-g_a))))\n",
    "\n",
    "# Solving the emission equation (max_emis) for k\n",
    "max_emis_k=sm.solve(max_emis,k)\n",
    "max_emis_k\n"
   ]
  },
  {
   "cell_type": "markdown",
   "metadata": {},
   "source": [
    "The above expression is capital at the peak of emmisions."
   ]
  },
  {
   "cell_type": "code",
   "execution_count": 28,
   "metadata": {},
   "outputs": [
    {
     "data": {
      "image/png": "[encoded data removed]",
      "text/latex": [
       "$$\\left [ 4.266759550779367\\right ]$$"
      ],
      "text/plain": [
       "[4.266759550779367]"
      ]
     },
     "execution_count": 28,
     "metadata": {},
     "output_type": "execute_result"
    }
   ],
   "source": [
    "# Converting our maximum emissions sympy function (max_emis_func) into a lambda function, making it possible to calculate a numerical value solution.\n",
    "max_emis_func = sm.lambdify((s,g_b,n,delta,alpha,theta,g_a),max_emis_k)\n",
    "\n",
    "# Adding numerical values to our parameters\n",
    "max_emis_func(0.25,0.015,0.01,0.035,0.25,0.05,0.03)"
   ]
  },
  {
   "cell_type": "markdown",
   "metadata": {},
   "source": [
    "At the peak of emmisions capital is equal to 4.27."
   ]
  },
  {
   "cell_type": "markdown",
   "metadata": {},
   "source": [
    "### 2.2 Environmental Kuznets Curve"
   ]
  },
  {
   "cell_type": "code",
   "execution_count": null,
   "metadata": {},
   "outputs": [],
   "source": []
  },
  {
   "cell_type": "code",
   "execution_count": null,
   "metadata": {},
   "outputs": [],
   "source": []
  }
 ],
 "metadata": {
  "kernelspec": {
   "display_name": "Python 3",
   "language": "python",
   "name": "python3"
  },
  "language_info": {
   "codemirror_mode": {
    "name": "ipython",
    "version": 3
   },
   "file_extension": ".py",
   "mimetype": "text/x-python",
   "name": "python",
   "nbconvert_exporter": "python",
   "pygments_lexer": "ipython3",
   "version": "3.7.1"
  }
 },
 "nbformat": 4,
 "nbformat_minor": 2
}
