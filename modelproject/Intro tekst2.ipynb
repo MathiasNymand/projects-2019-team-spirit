{
 "cells": [
  {
   "cell_type": "code",
   "execution_count": 1,
   "metadata": {},
   "outputs": [],
   "source": [
    "import numpy as np\n",
    "import matplotlib.pyplot as plt\n",
    "from scipy import linalg\n",
    "from scipy import optimize\n",
    "import sympy as sm"
   ]
  },
  {
   "cell_type": "markdown",
   "metadata": {},
   "source": [
    "Our assignment builds on the original Solow model that was presented by Solow and Swan (1956). The standard Solow model is given by these equations:  \n",
    "$Q=F(K,BL)=K^\\alpha BL^{1-\\alpha},$ &nbsp;&nbsp;&nbsp;&nbsp;&nbsp;&nbsp;   $1>\\alpha>0$    \n",
    "$\\dot{K}=sY-\\delta K$  \n",
    "$\\dot{L}=nL \\Rightarrow L=L_0 e^{nt} $  \n",
    "$\\dot{B}=g_B B \\Rightarrow B=B_0 e^{g_Bt},$ &nbsp;&nbsp;&nbsp;&nbsp;&nbsp;&nbsp; $1>g_B>0$\n",
    "\n"
   ]
  },
  {
   "cell_type": "markdown",
   "metadata": {},
   "source": [
    "The first equation shows a simple Cobb-Douglas production function where the production of gross output, Q, is made through Capital, K, and effective labour, BL. It can be shown that the production function exhibits constant return to scale.  \n",
    "The second equation is describing the evolution of capital, where, s, is a fixed savings rate of net output, Y. From equation 2 we see that the capital is assumed to depreciate with a constant rate, $\\delta$.  \n",
    "The third equation presents the evolution of workers over time. We notice that the evoulution is given by a constant growth rate, n. \n",
    "Lastly, we see that the technological progress in the production of output is given by the exogenous growth rate, $g_B$."
   ]
  },
  {
   "cell_type": "markdown",
   "metadata": {},
   "source": [
    "In this assignment we will be working with an exstention of the original Solow model. Namely, we will work with the Green Solow model developed by William A. Brock and M. Scott Taylor (2004). In their model they add a function describing total emissions, E, given by:  \n",
    "$E=\\Omega Q-\\Omega A(Q,R)$  \n",
    "This simply shows that total emissions is given by the amount of pullution produced minus the amount of pollution abated.  \n",
    "$\\Omega$ is the fraction of pollution arising from the production of gross output, Q. It is important to notice that it is assumed that every unit of output generates the same fraction of pollution. Further, the equation shows that abatement exists in the economy. $(A(Q,R))$. The abatement has a negative effect on the total amount of emissions. Hence, abatement reduces the amount of pollution released into the atmosphere."
   ]
  },
  {
   "cell_type": "markdown",
   "metadata": {},
   "source": [
    "In the Green Solow model it is assumed that the abatement function is a concave function that is increasing with gross output, Q, and the economy's effort at abatement, R. Hence, abatement has a diminishing effect on total emissions. "
   ]
  },
  {
   "cell_type": "markdown",
   "metadata": {},
   "source": [
    "When considering the Green Solow model there must be a lower amount available for consumption and investment due to the inclusion of abatement. We define this net output (income) as Y:  \n",
    "$Y=Q-R=(1-\\theta)Q$  \n",
    "We can rewrite this in order to understand how emissions are being affected in the Green Solow model.  \n",
    "$E=\\Omega (Q-A(Q,R))$  \n",
    "$E=\\Omega Q(1-A(1,\\frac{R}{Q})$  \n",
    "$E=\\Omega Q \\alpha(\\theta),$ &nbsp;&nbsp;&nbsp;&nbsp;&nbsp;&nbsp; $\\theta \\equiv \\frac{R}{Q}$ &nbsp;&nbsp;&nbsp;&nbsp;&nbsp;&nbsp; $\\alpha(\\theta) \\equiv 1-A(1,\\theta)$"
   ]
  },
  {
   "cell_type": "markdown",
   "metadata": {},
   "source": [
    "We notice that the emissions are affected by the scale of economic activity, Q. Further, we notice that the abatement intensity, $\\theta$ is assumed constant. There are more underlying mechanism in the Green Solow model such as the development in the fraction $\\Omega$ that we won't go into detail with due to the focus of this assignment."
   ]
  },
  {
   "cell_type": "markdown",
   "metadata": {},
   "source": [
    "We are able to derive the model in output per effective worker since the production function has constant returns to scale. This implies that:  \n",
    "$Q=K^\\alpha (BL)^{1-\\alpha} \\Rightarrow q=k^\\alpha$ &nbsp;&nbsp;&nbsp;&nbsp;&nbsp;&nbsp; $q\\equiv \\frac{Q}{BL},$ &nbsp;&nbsp;&nbsp;&nbsp;&nbsp;&nbsp; $k\\equiv \\frac{K}{BL}$"
   ]
  },
  {
   "cell_type": "markdown",
   "metadata": {},
   "source": [
    "Using the above definitons we are now able to calculate the transition equation for capital per effective worker. When using the second equation and **the definitons just given** we get the following transition equation for capital per effective worker:  \n",
    "$\\dot{k}=s(1-\\theta)k^\\alpha-k(\\delta+g_B+n)$\n"
   ]
  },
  {
   "cell_type": "markdown",
   "metadata": {},
   "source": [
    "It can be shown that the growth rate for total emissions is given by:  \n",
    "$\\frac{\\dot{E}}{E}=g_E+\\alpha \\frac{\\dot{k}}{k},$ &nbsp;&nbsp;&nbsp;&nbsp;&nbsp;&nbsp; $g_E\\equiv g_B+n-g_A$"
   ]
  },
  {
   "cell_type": "markdown",
   "metadata": {},
   "source": [
    "When substituting for $\\frac{\\dot{k}}{k}$ we get:  \n",
    "$\\frac{\\dot{E}}{E}=\\alpha s(1-\\theta)k^{\\alpha-1}-[\\alpha(\\delta+g_B+n)-g_E]$"
   ]
  },
  {
   "cell_type": "markdown",
   "metadata": {},
   "source": [
    "When considering this equation we notice that the emissions will peak ($\\dot{E}=0$) when $\\alpha s(1-\\theta)k^{\\alpha-1}=[\\alpha(\\delta+g_B+n)-g_E]$"
   ]
  },
  {
   "cell_type": "code",
   "execution_count": null,
   "metadata": {},
   "outputs": [],
   "source": []
  }
 ],
 "metadata": {
  "kernelspec": {
   "display_name": "Python 3",
   "language": "python",
   "name": "python3"
  },
  "language_info": {
   "codemirror_mode": {
    "name": "ipython",
    "version": 3
   },
   "file_extension": ".py",
   "mimetype": "text/x-python",
   "name": "python",
   "nbconvert_exporter": "python",
   "pygments_lexer": "ipython3",
   "version": "3.7.1"
  }
 },
 "nbformat": 4,
 "nbformat_minor": 2
}
