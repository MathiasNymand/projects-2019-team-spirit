{
 "cells": [
  {
   "cell_type": "code",
   "execution_count": 57,
   "metadata": {},
   "outputs": [],
   "source": [
    "# Importing crucial packages\n",
    "\n",
    "import numpy as np\n",
    "from scipy import optimize\n",
    "import sympy as sm\n",
    "sm.init_printing(use_unicode=True)\n",
    "import matplotlib.pyplot as plt\n",
    "import ipywidgets as widgets\n",
    "%matplotlib inline\n",
    "import matplotlib.pyplot as plt\n",
    "import ipywidgets as widgets"
   ]
  },
  {
   "cell_type": "code",
   "execution_count": 58,
   "metadata": {},
   "outputs": [],
   "source": [
    "exec(open(\"Def_variables.py\").read())"
   ]
  },
  {
   "cell_type": "code",
   "execution_count": 60,
   "metadata": {},
   "outputs": [
    {
     "data": {
      "image/png": "[encoded data removed]",
      "text/latex": [
       "$$\\left [ 6.261568722311015\\right ]$$"
      ],
      "text/plain": [
       "[6.261568722311015]"
      ]
     },
     "execution_count": 60,
     "metadata": {},
     "output_type": "execute_result"
    }
   ],
   "source": [
    "## Transistions ligning\n",
    "\n",
    "f=k**alpha\n",
    "tc=sm.Eq(0,(s*(1-theta)*k**alpha-(delta+g_b+n)*k))\n",
    "tcc=sm.solve(tc,k)\n",
    "tcc\n",
    "\n",
    "tc_func = sm.lambdify((s,g_b,n,delta,alpha,theta),tcc)\n",
    "tc_func(0.25,0.015,0.01,0.035,0.25,0.05)\n"
   ]
  },
  {
   "cell_type": "code",
   "execution_count": 61,
   "metadata": {},
   "outputs": [],
   "source": [
    "exec(open(\"Def_values.py\").read())"
   ]
  },
  {
   "cell_type": "code",
   "execution_count": 62,
   "metadata": {},
   "outputs": [
    {
     "data": {
      "image/png": "[encoded data removed]",
      "text/latex": [
       "$$6.261568722311015$$"
      ],
      "text/plain": [
       "6.261568722311015"
      ]
     },
     "execution_count": 62,
     "metadata": {},
     "output_type": "execute_result"
    }
   ],
   "source": [
    "\n",
    "obj_kss = lambda k: 0 - (s*(1-theta)*k**alpha-(delta+g_b+n)*k)\n",
    "result = optimize.newton(obj_kss,x0=1)\n",
    "result\n"
   ]
  },
  {
   "cell_type": "code",
   "execution_count": null,
   "metadata": {},
   "outputs": [],
   "source": [
    "\n"
   ]
  },
  {
   "cell_type": "code",
   "execution_count": null,
   "metadata": {},
   "outputs": [],
   "source": []
  },
  {
   "cell_type": "code",
   "execution_count": 63,
   "metadata": {},
   "outputs": [],
   "source": [
    "def invest_per_work(k, theta):\n",
    "    return (s*(1-theta)*k**alpha)\n",
    "def break_even(k):\n",
    "    return (delta+g_b+n)*k"
   ]
  },
  {
   "cell_type": "code",
   "execution_count": 64,
   "metadata": {},
   "outputs": [],
   "source": [
    "x_vec = np.linspace(0,50,50)\n"
   ]
  },
  {
   "cell_type": "code",
   "execution_count": null,
   "metadata": {
    "scrolled": true
   },
   "outputs": [],
   "source": [
    "\n"
   ]
  },
  {
   "cell_type": "code",
   "execution_count": 65,
   "metadata": {},
   "outputs": [],
   "source": [
    "def transition_diagram(theta):\n",
    "    \n",
    "    fig = plt.figure(figsize=(7,4)) # create the figure\n",
    "    plt.xlabel('k')\n",
    "    investment=invest_per_work(x_vec,theta)\n",
    "    break_even_cap=break_even(x_vec)\n",
    "    \n",
    "    plt.title('Green solow transition diagram')\n",
    "    ax = fig.add_subplot(1,1,1) # create a 3d axis in the figure \n",
    "    ax.plot(break_even_cap, label='$(\\delta+g_B+n)\\cdot k$'); # create surface plot in the axis\n",
    "    ax.plot(investment, label='$s \\cdot (1-\\\\theta)\\cdot k^\\\\alpha $'); # create surface plot in the axis\n",
    "    \n",
    "    ax.set_xlim([0,50]) # fixed x range\n",
    "    ax.set_yticklabels([])\n",
    "    plt.legend()\n"
   ]
  },
  {
   "cell_type": "code",
   "execution_count": 66,
   "metadata": {
    "scrolled": true
   },
   "outputs": [
    {
     "data": {
      "application/vnd.jupyter.widget-view+json": {
       "model_id": "a69ee8e00eba4747bdd557bbad9a2577",
       "version_major": 2,
       "version_minor": 0
      },
      "text/plain": [
       "interactive(children=(FloatSlider(value=0.05, description='$Theta$', max=1.0, step=0.01), Output()), _dom_clas…"
      ]
     },
     "metadata": {},
     "output_type": "display_data"
    }
   ],
   "source": [
    "widgets.interact(transition_diagram,\n",
    "    \n",
    "    theta=widgets.FloatSlider(description=\"$Theta$\", min=0, max=1, step=0.01, value=0.05),\n",
    "    \n",
    "    \n",
    ");"
   ]
  },
  {
   "cell_type": "code",
   "execution_count": null,
   "metadata": {},
   "outputs": [],
   "source": []
  },
  {
   "cell_type": "code",
   "execution_count": 67,
   "metadata": {},
   "outputs": [],
   "source": [
    "exec(open(\"Def_variables.py\").read())"
   ]
  },
  {
   "cell_type": "code",
   "execution_count": 68,
   "metadata": {},
   "outputs": [
    {
     "data": {
      "image/png": "[encoded data removed]",
      "text/latex": [
       "$$\\left [ 4.266759550779367\\right ]$$"
      ],
      "text/plain": [
       "[4.266759550779367]"
      ]
     },
     "execution_count": 68,
     "metadata": {},
     "output_type": "execute_result"
    }
   ],
   "source": [
    "# Max emision\n",
    "\n",
    "\n",
    "\n",
    "f=k**alpha\n",
    "max_emis=sm.Eq(0,(alpha*s*(1-theta)*k**(alpha-1)-(alpha*(delta+g_b+n)-(g_b+n-g_a))))\n",
    "max_emis_k=sm.solve(max_emis,k)\n",
    "max_emis_k\n",
    "\n",
    "\n",
    "\n",
    "max_emis_func = sm.lambdify((s,g_b,n,delta,alpha,theta,g_a),max_emis_k)\n",
    "max_emis_func(0.25,0.015,0.01,0.035,0.25,0.05,0.03)\n",
    "\n",
    "\n",
    "\n",
    "\n",
    "\n",
    "\n"
   ]
  },
  {
   "cell_type": "code",
   "execution_count": 69,
   "metadata": {},
   "outputs": [
    {
     "data": {
      "image/png": "[encoded data removed]",
      "text/latex": [
       "$$4.266759550779367$$"
      ],
      "text/plain": [
       "4.266759550779367"
      ]
     },
     "execution_count": 69,
     "metadata": {},
     "output_type": "execute_result"
    }
   ],
   "source": [
    "exec(open(\"Def_values.py\").read())\n",
    "obj_kss_ekc = lambda k: 0 - (alpha*s*(1-theta)*k**(alpha-1)-(alpha*(delta+g_b+n)-(g_b+n-g_a)))\n",
    "result_ekc = optimize.newton(obj_kss_ekc,x0=1)\n",
    "result_ekc\n"
   ]
  },
  {
   "cell_type": "markdown",
   "metadata": {},
   "source": [
    "We would like to illustrate how the Environmental Kuznetz Curve is derived. First we define functions to use in the plot  "
   ]
  },
  {
   "cell_type": "code",
   "execution_count": 70,
   "metadata": {},
   "outputs": [],
   "source": [
    "# Calculate the change of emissions for different k values  \n",
    "def ekc(k, theta,s):\n",
    "    return (alpha*s*(1-theta)*k**(alpha-1))\n",
    "\n",
    "# Calculate the turning point of the emissions\n",
    "def turning_point(alpha):\n",
    "    return alpha*(delta+g_b+n)-(g_b+n-g_a)\n",
    "\n",
    "# Calculate the steady state value of emissions at the steady state level of capital\n",
    "def steady_state(alpha):\n",
    "    return alpha*(delta+g_b+n)\n",
    "\n",
    "# To plot intersections between the change of emissions and the two curves defined above, we define a algorithm to \n",
    "# find the position (index) on the x-values array of the closest value to the two horizontal curves.  \n",
    "def find_nearest(array, values):\n",
    "    indices = np.abs(np.subtract.outer(array, values)).argmin(0)\n",
    "    return indices\n",
    "\n",
    "# to avoid dividing by zero, we define another x-vector (k-vector) that does not start in zero. \n",
    "x_vec2 = np.linspace(0.01,200,1000)"
   ]
  },
  {
   "cell_type": "markdown",
   "metadata": {},
   "source": [
    "We define our diagram to show how the Environmental Kuznetz Curve is derived"
   ]
  },
  {
   "cell_type": "code",
   "execution_count": 71,
   "metadata": {},
   "outputs": [],
   "source": [
    "# two inputs in the diagram to include in the widget-slides\n",
    "def ekc_diagram(theta,s):\n",
    "    fig = plt.figure(figsize=(7,4)) # create the figure\n",
    "    plt.xlabel('k') # label x-axis\n",
    "    ekc_calc=ekc(x_vec2, theta,s) # calculate the change in ekc using the function\n",
    "    steady_state_val=steady_state(alpha) # calculate the emissions at the steady state value of k\n",
    "    turning_point_val=turning_point(alpha) # calculate the emissions at the turning point level\n",
    "    plt.title('Generating Environmental Kuznets Curve') #title\n",
    "    ax = fig.add_subplot(1,1,1) # Include many plots \n",
    "    # steady state horizontal line\n",
    "    plt.axhline(y=steady_state_val, color='r', linestyle='-', label=\"$\\\\alpha \\cdot(\\delta+g_B+n)$\") \n",
    "    # turning point horizontal line\n",
    "    plt.axhline(y=turning_point_val, color='y', linestyle='-', label=\"$\\\\alpha \\cdot(\\delta+g_B+n)-(g_b+n-g_a)$\")\n",
    "    # plot the change in emissions\n",
    "    ax.plot(ekc_calc, label='$\\\\alpha \\cdot s \\cdot(1-\\\\theta)\\cdot k^{\\\\alpha-1}$');\n",
    "    # Find the x-value of intersection with steady state\n",
    "    steady_state_x=find_nearest(ekc_calc,steady_state_val)\n",
    "    # Find the x-value of intersection with turning point\n",
    "    turning_point_x=find_nearest(ekc_calc,turning_point_val)\n",
    "    # plot the intersection\n",
    "    ax.plot([steady_state_x], [steady_state_val], 'o', color='k')\n",
    "    # plot the intersection\n",
    "    ax.plot([turning_point_x], [turning_point_val], 'o', color='k')\n",
    "    # annotate above the intersection\n",
    "    ax.annotate('Point B', xy=(steady_state_x, steady_state_val), xytext=(steady_state_x, steady_state_val+0.001),\n",
    "               )\n",
    "    # annotate above the intersection\n",
    "    ax.annotate('Point T', xy=(turning_point_x, turning_point_val), xytext=(turning_point_x, turning_point_val+0.001),\n",
    "               )\n",
    "    ax.set_xlim([0,200]) # fixed x range\n",
    "    ax.set_ylim([0,0.05]) # fixed y range\n",
    "    ax.set_yticklabels([]) # no labels\n",
    "    ax.set_xticklabels([]) # no labels\n",
    "    plt.legend() # legend    "
   ]
  },
  {
   "cell_type": "markdown",
   "metadata": {},
   "source": [
    "We call our predefined function ekc_diagram and make it interactive! "
   ]
  },
  {
   "cell_type": "code",
   "execution_count": 72,
   "metadata": {
    "scrolled": true
   },
   "outputs": [
    {
     "data": {
      "application/vnd.jupyter.widget-view+json": {
       "model_id": "c9e4b59dd4564607b408be42070f1a19",
       "version_major": 2,
       "version_minor": 0
      },
      "text/plain": [
       "interactive(children=(FloatSlider(value=0.05, description='$Theta$', max=1.0, min=0.005, step=0.01), FloatSlid…"
      ]
     },
     "metadata": {},
     "output_type": "display_data"
    }
   ],
   "source": [
    "# Widgets - all our widgets have the same min and max. Starting values differ according to the default values stated in \n",
    "# our model description earlier, they can also be found in the .py file with values.\n",
    "\n",
    "#call diagram\n",
    "widgets.interact(ekc_diagram,\n",
    "    \n",
    "    # widgets for all the inputs in the function ekc_diagram             \n",
    "    theta=widgets.FloatSlider(description=\"$Theta$\", min=0.005, max=1, step=0.01, value=0.05),\n",
    "    s=widgets.FloatSlider(description=\"$s$\", min=0.005, max=1, step=0.01, value=0.25),\n",
    "    \n",
    ");"
   ]
  },
  {
   "cell_type": "markdown",
   "metadata": {},
   "source": [
    "We would like to see how the stedy state value of k changes as $\\theta, \\alpha$ and s changes. We define savings/investment per worker and the the break even equation with mmultiple inputs to include them in the widget!"
   ]
  },
  {
   "cell_type": "code",
   "execution_count": 73,
   "metadata": {},
   "outputs": [],
   "source": [
    "# The investment per worker function calculates the saving/investment locus.\n",
    "def invest_per_work2(k, theta,alpha,s):\n",
    "    return (s*(1-theta)*k**alpha)\n",
    "\n",
    "# The break even equation does not depend on any of the variables we want in our widget! \n",
    "# The point where the two functions intersect is the steady state value of k\n",
    "def break_even(k):\n",
    "    return (delta+g_b+n)*k"
   ]
  },
  {
   "cell_type": "markdown",
   "metadata": {},
   "source": [
    "We define our transition diagram, the we have three inputs to make the diagram interactive."
   ]
  },
  {
   "cell_type": "code",
   "execution_count": 74,
   "metadata": {},
   "outputs": [],
   "source": [
    "\n",
    "def transition_diagram2(theta,alpha,s):\n",
    "    \n",
    "    fig = plt.figure(figsize=(7,4)) # create the figure\n",
    "    plt.xlabel('k') # label x-axis\n",
    "    investment=invest_per_work2(x_vec,theta,alpha,s) # calculate the investments per worker using the function\n",
    "    break_even_cap=break_even(x_vec) # calculate the break even equation for the x-values\n",
    "    plt.title('Green solow transition diagram') #Title\n",
    "    ax = fig.add_subplot(1,1,1) # Include many plots \n",
    "    ax.plot(break_even_cap, label='$(\\delta+g_B+n)\\cdot k$'); # plot and label\n",
    "    ax.plot(investment, label='$s \\cdot (1-\\\\theta)\\cdot k^\\\\alpha $'); # plot and label\n",
    "    ax.set_xlim([0,50]) # fixed x range\n",
    "    ax.set_yticklabels([]) #remove y-labes\n",
    "    plt.legend() # plot the labels in the legend"
   ]
  },
  {
   "cell_type": "markdown",
   "metadata": {},
   "source": [
    "We call our predefined function transition_diagram2 and make it interactive! "
   ]
  },
  {
   "cell_type": "code",
   "execution_count": 75,
   "metadata": {},
   "outputs": [
    {
     "data": {
      "application/vnd.jupyter.widget-view+json": {
       "model_id": "226907d87fde4e4a94cb6534bd7688a0",
       "version_major": 2,
       "version_minor": 0
      },
      "text/plain": [
       "interactive(children=(FloatSlider(value=0.05, description='$Theta$', max=1.0, step=0.01), FloatSlider(value=0.…"
      ]
     },
     "metadata": {},
     "output_type": "display_data"
    }
   ],
   "source": [
    "# Widgets - all our widgets have the same min and max. Starting values differ according to the default values stated in \n",
    "# our model description earlier, they can also be found in the .py file with values.\n",
    "\n",
    "# call diagram with widgets\n",
    "widgets.interact(transition_diagram2,\n",
    "    \n",
    "    # widgets for all the inputs in the function transition_diagram2             \n",
    "    theta=widgets.FloatSlider(description=\"$Theta$\", min=0, max=1, step=0.01, value=0.05),\n",
    "    alpha=widgets.FloatSlider(description=\"$Alpha$\", min=0, max=1, step=0.01, value=0.25),\n",
    "    s=widgets.FloatSlider(description=\"$s$\", min=0, max=1, step=0.01, value=0.25),\n",
    "    \n",
    ");"
   ]
  },
  {
   "cell_type": "code",
   "execution_count": 76,
   "metadata": {},
   "outputs": [
    {
     "data": {
      "image/png": "[encoded data removed]",
      "text/plain": [
       "<IPython.core.display.Image object>"
      ]
     },
     "execution_count": 76,
     "metadata": {},
     "output_type": "execute_result"
    }
   ],
   "source": [
    "from IPython.display import Image\n",
    "Image(filename='Kuznetz_Curve.png')"
   ]
  },
  {
   "cell_type": "code",
   "execution_count": null,
   "metadata": {},
   "outputs": [],
   "source": []
  },
  {
   "cell_type": "code",
   "execution_count": null,
   "metadata": {},
   "outputs": [],
   "source": []
  }
 ],
 "metadata": {
  "kernelspec": {
   "display_name": "Python 3",
   "language": "python",
   "name": "python3"
  },
  "language_info": {
   "codemirror_mode": {
    "name": "ipython",
    "version": 3
   },
   "file_extension": ".py",
   "mimetype": "text/x-python",
   "name": "python",
   "nbconvert_exporter": "python",
   "pygments_lexer": "ipython3",
   "version": "3.7.1"
  }
 },
 "nbformat": 4,
 "nbformat_minor": 2
}
