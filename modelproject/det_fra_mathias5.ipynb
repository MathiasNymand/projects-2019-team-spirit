{
 "cells": [
  {
   "cell_type": "code",
   "execution_count": 1,
   "metadata": {},
   "outputs": [],
   "source": [
    "## Importing stuff \n",
    "\n",
    "import numpy as np\n",
    "from scipy import linalg\n",
    "from scipy import optimize\n",
    "import sympy as sm\n",
    "sm.init_printing(use_unicode=True)\n",
    "import matplotlib.pyplot as plt\n",
    "import math\n",
    "import ipywidgets as widgets\n",
    "\n",
    "%matplotlib inline\n",
    "import matplotlib.pyplot as plt\n",
    "import ipywidgets as widgets"
   ]
  },
  {
   "cell_type": "code",
   "execution_count": 2,
   "metadata": {},
   "outputs": [],
   "source": [
    "exec(open(\"Def_variables.py\").read())"
   ]
  },
  {
   "cell_type": "code",
   "execution_count": 3,
   "metadata": {},
   "outputs": [
    {
     "data": {
      "image/png": "[encoded data removed]",
      "text/latex": [
       "$$\\left [ 6.261568722311015\\right ]$$"
      ],
      "text/plain": [
       "[6.261568722311015]"
      ]
     },
     "execution_count": 3,
     "metadata": {},
     "output_type": "execute_result"
    }
   ],
   "source": [
    "## Transistions ligning\n",
    "\n",
    "f=k**alpha\n",
    "tc=sm.Eq(0,(s*(1-theta)*k**alpha-(delta+g_b+n)*k))\n",
    "tcc=sm.solve(tc,k)\n",
    "tcc\n",
    "\n",
    "tc_func = sm.lambdify((s,g_b,n,delta,alpha,theta),tcc)\n",
    "tc_func(0.25,0.015,0.01,0.035,0.25,0.05)\n"
   ]
  },
  {
   "cell_type": "code",
   "execution_count": 4,
   "metadata": {},
   "outputs": [],
   "source": [
    "exec(open(\"Def_values.py\").read())"
   ]
  },
  {
   "cell_type": "code",
   "execution_count": 5,
   "metadata": {},
   "outputs": [
    {
     "data": {
      "image/png": "[encoded data removed]",
      "text/latex": [
       "$$6.261568722311015$$"
      ],
      "text/plain": [
       "6.261568722311015"
      ]
     },
     "execution_count": 5,
     "metadata": {},
     "output_type": "execute_result"
    }
   ],
   "source": [
    "obj_kss = lambda k: 0 - (s*(1-theta)*k**alpha-(delta+g_b+n)*k)\n",
    "result = optimize.newton(obj_kss,x0=1)\n",
    "result\n"
   ]
  },
  {
   "cell_type": "code",
   "execution_count": null,
   "metadata": {},
   "outputs": [],
   "source": [
    "\n"
   ]
  },
  {
   "cell_type": "code",
   "execution_count": 6,
   "metadata": {},
   "outputs": [],
   "source": [
    "def invest_per_work(k, theta):\n",
    "    return (s*(1-theta)*k**alpha)\n",
    "def break_even(k):\n",
    "    return (delta+g_b+n)*k"
   ]
  },
  {
   "cell_type": "code",
   "execution_count": 7,
   "metadata": {},
   "outputs": [],
   "source": [
    "x_vec = np.linspace(0,50,50)\n",
    "#theta=np.linspace(0.001,1,100)"
   ]
  },
  {
   "cell_type": "code",
   "execution_count": null,
   "metadata": {
    "scrolled": true
   },
   "outputs": [],
   "source": [
    "\n"
   ]
  },
  {
   "cell_type": "code",
   "execution_count": 58,
   "metadata": {},
   "outputs": [],
   "source": [
    "def transition_diagram(theta):\n",
    "    \n",
    "    fig = plt.figure(figsize=(7,4)) # create the figure\n",
    "    plt.xlabel('k')\n",
    "    investment=invest_per_work(x_vec,theta)\n",
    "    break_even_cap=break_even(x_vec)\n",
    "\n",
    "    \n",
    "    plt.title('Green solow transition diagram')\n",
    "    ax = fig.add_subplot(1,1,1) # create a 3d axis in the figure \n",
    "    ax.plot(break_even_cap, label='$(\\delta+g_B+n)\\cdot k$'); # create surface plot in the axis\n",
    "    ax.plot(investment, label='$s \\cdot (1-\\\\theta)\\cdot k^\\\\alpha $'); # create surface plot in the axis\n",
    "    ax.set_xlim([0,50]) # fixed x range\n",
    "    ax.set_yticklabels([])\n",
    "    plt.legend()\n"
   ]
  },
  {
   "cell_type": "code",
   "execution_count": 59,
   "metadata": {
    "scrolled": false
   },
   "outputs": [
    {
     "data": {
      "application/vnd.jupyter.widget-view+json": {
       "model_id": "63648c7df8a64e588ecaf3515428b4fa",
       "version_major": 2,
       "version_minor": 0
      },
      "text/plain": [
       "interactive(children=(FloatSlider(value=0.05, description='$Theta$', max=1.0, step=0.01), Output()), _dom_clas…"
      ]
     },
     "metadata": {},
     "output_type": "display_data"
    }
   ],
   "source": [
    "widgets.interact(transition_diagram,\n",
    "    \n",
    "    theta=widgets.FloatSlider(description=\"$Theta$\", min=0, max=1, step=0.01, value=0.05),\n",
    "    \n",
    "    \n",
    ");"
   ]
  },
  {
   "cell_type": "code",
   "execution_count": 11,
   "metadata": {},
   "outputs": [],
   "source": [
    "exec(open(\"Def_variables.py\").read())"
   ]
  },
  {
   "cell_type": "code",
   "execution_count": 12,
   "metadata": {},
   "outputs": [
    {
     "data": {
      "image/png": "[encoded data removed]",
      "text/latex": [
       "$$\\left [ 4.266759550779367\\right ]$$"
      ],
      "text/plain": [
       "[4.266759550779367]"
      ]
     },
     "execution_count": 12,
     "metadata": {},
     "output_type": "execute_result"
    }
   ],
   "source": [
    "# Max emision\n",
    "\n",
    "\n",
    "\n",
    "f=k**alpha\n",
    "max_emis=sm.Eq(0,(alpha*s*(1-theta)*k**(alpha-1)-(alpha*(delta+g_b+n)-(g_b+n-g_a))))\n",
    "max_emis_k=sm.solve(max_emis,k)\n",
    "max_emis_k\n",
    "\n",
    "\n",
    "\n",
    "max_emis_func = sm.lambdify((s,g_b,n,delta,alpha,theta,g_a),max_emis_k)\n",
    "max_emis_func(0.25,0.015,0.01,0.035,0.25,0.05,0.03)\n",
    "\n",
    "\n",
    "\n",
    "\n",
    "\n",
    "\n"
   ]
  },
  {
   "cell_type": "code",
   "execution_count": 13,
   "metadata": {},
   "outputs": [
    {
     "data": {
      "image/png": "[encoded data removed]",
      "text/latex": [
       "$$4.266759550779367$$"
      ],
      "text/plain": [
       "4.266759550779367"
      ]
     },
     "execution_count": 13,
     "metadata": {},
     "output_type": "execute_result"
    }
   ],
   "source": [
    "exec(open(\"Def_values.py\").read())\n",
    "obj_kss_ekc = lambda k: 0 - (alpha*s*(1-theta)*k**(alpha-1)-(alpha*(delta+g_b+n)-(g_b+n-g_a)))\n",
    "result_ekc = optimize.newton(obj_kss_ekc,x0=1)\n",
    "result_ekc\n"
   ]
  },
  {
   "cell_type": "code",
   "execution_count": 118,
   "metadata": {},
   "outputs": [],
   "source": [
    "def ekc(k, theta):\n",
    "    return (alpha*s*(1-theta)*k**(alpha-1))\n",
    "\n",
    "def turning_point(alpha):\n",
    "    return alpha*(delta+g_b+n)-(g_b+n-g_a)\n",
    "\n",
    "def steady_state(alpha):\n",
    "    return alpha*(delta+g_b+n)\n",
    "    \n",
    "\n",
    "\n",
    "x_vec2 = np.linspace(0.01,200,1000)"
   ]
  },
  {
   "cell_type": "code",
   "execution_count": 126,
   "metadata": {},
   "outputs": [
    {
     "data": {
      "image/png": "[encoded data removed]",
      "text/latex": [
       "$$0.015000000000000001$$"
      ],
      "text/plain": [
       "0.015000000000000001"
      ]
     },
     "execution_count": 126,
     "metadata": {},
     "output_type": "execute_result"
    }
   ],
   "source": [
    "steady_state(0.25)"
   ]
  },
  {
   "cell_type": "code",
   "execution_count": 185,
   "metadata": {},
   "outputs": [],
   "source": [
    "def ekc_diagram(theta):\n",
    "    fig = plt.figure(figsize=(7,4)) # create the figure\n",
    "    plt.xlabel('k')\n",
    "    ekc_calc=ekc(x_vec2, theta)\n",
    "    steady_state_val=steady_state(alpha)\n",
    "    turning_point_val=turning_point(alpha)\n",
    "    plt.title('Generating Environmental Kuznets Curve')\n",
    "    ax = fig.add_subplot(1,1,1) # create a 3d axis in the figure \n",
    "    plt.axhline(y=steady_state_val, color='r', linestyle='-', label=\"$\\\\alpha \\cdot(\\delta+g_B+n)$\")\n",
    "    plt.axhline(y=turning_point_val, color='y', linestyle='-', label=\"$\\\\alpha \\cdot(\\delta+g_B+n)-(g_b+n-g_a)$\")\n",
    "    ax.plot(ekc_calc, label='$\\\\alpha \\cdot s \\cdot(1-\\\\theta)\\cdot k^{\\\\alpha-1}$'); # create surface plot in the axis\n",
    "    ax.plot([126], [0.015], 'o', color='k')\n",
    "    ax.plot([84], [0.019999999], 'o', color='k')\n",
    "    ax.annotate('Point T', xy=(80, 0.02), xytext=(80, 0.022),\n",
    "               )\n",
    "    ax.annotate('Point B', xy=(125, 0.015), xytext=(122, 0.016),\n",
    "               )\n",
    "    \n",
    "    \n",
    "    ax.set_xlim([0,200]) # fixed x range\n",
    "    ax.set_ylim([0,0.05])\n",
    "    ax.set_yticklabels([])\n",
    "    ax.set_xticklabels([])\n",
    "    plt.legend()\n",
    "\n",
    "    \n",
    "    \n",
    "    \n",
    "  "
   ]
  },
  {
   "cell_type": "code",
   "execution_count": 186,
   "metadata": {},
   "outputs": [],
   "source": [
    "#idx = np.argwhere(np.diff(np.sign(f - g))).flatten()\n",
    "#plt.plot(x[idx], f[idx], 'ro')"
   ]
  },
  {
   "cell_type": "code",
   "execution_count": 187,
   "metadata": {},
   "outputs": [
    {
     "data": {
      "image/png": "[encoded data removed]",
      "text/plain": [
       "<Figure size 504x288 with 1 Axes>"
      ]
     },
     "metadata": {
      "needs_background": "light"
     },
     "output_type": "display_data"
    }
   ],
   "source": [
    "ekc_diagram(theta)"
   ]
  },
  {
   "cell_type": "code",
   "execution_count": 138,
   "metadata": {},
   "outputs": [],
   "source": [
    "## Som udgangspunkt udgår denne celle ##\n",
    "\n",
    "#widgets.interact(ekc_diagram,\n",
    "#    \n",
    "#    theta=widgets.FloatSlider(description=\"$Theta$\", min=0.005, max=1, step=0.01, value=0.05),\n",
    "#    #x_vec=widgets.float(x_vec),\n",
    "#    \n",
    "#);"
   ]
  },
  {
   "cell_type": "code",
   "execution_count": 18,
   "metadata": {},
   "outputs": [],
   "source": [
    "def invest_per_work2(k, theta,alpha,s):\n",
    "    return (s*(1-theta)*k**alpha)\n",
    "def break_even(k):\n",
    "    return (delta+g_b+n)*k"
   ]
  },
  {
   "cell_type": "code",
   "execution_count": 56,
   "metadata": {},
   "outputs": [],
   "source": [
    "def transition_diagram2(theta,alpha,s):\n",
    "    \n",
    "    fig = plt.figure(figsize=(7,4)) # create the figure\n",
    "    plt.xlabel('k')\n",
    "    investment=invest_per_work2(x_vec,theta,alpha,s)\n",
    "    break_even_cap=break_even(x_vec)\n",
    "\n",
    "    \n",
    "    plt.title('Green solow transition diagram')\n",
    "    ax = fig.add_subplot(1,1,1) # create a 3d axis in the figure \n",
    "    ax.plot(break_even_cap, label='$(\\delta+g_B+n)\\cdot k$'); # create surface plot in the axis\n",
    "    ax.plot(investment, label='$s \\cdot (1-\\\\theta)\\cdot k^\\\\alpha $'); # create surface plot in the axis\n",
    "    ax.set_xlim([0,50]) # fixed x range\n",
    "    ax.set_yticklabels([])\n",
    "    plt.legend()\n"
   ]
  },
  {
   "cell_type": "code",
   "execution_count": 57,
   "metadata": {},
   "outputs": [
    {
     "data": {
      "application/vnd.jupyter.widget-view+json": {
       "model_id": "b2c6b2afe7a64812ab28a49c105cdf9d",
       "version_major": 2,
       "version_minor": 0
      },
      "text/plain": [
       "interactive(children=(FloatSlider(value=0.05, description='$Theta$', max=1.0, step=0.01), FloatSlider(value=0.…"
      ]
     },
     "metadata": {},
     "output_type": "display_data"
    }
   ],
   "source": [
    "widgets.interact(transition_diagram2,\n",
    "    \n",
    "    theta=widgets.FloatSlider(description=\"$Theta$\", min=0, max=1, step=0.01, value=0.05),\n",
    "    alpha=widgets.FloatSlider(description=\"$Alpha$\", min=0, max=1, step=0.01, value=0.25),\n",
    "    s=widgets.FloatSlider(description=\"$s$\", min=0, max=1, step=0.01, value=0.25),\n",
    "    \n",
    ");"
   ]
  },
  {
   "cell_type": "code",
   "execution_count": null,
   "metadata": {},
   "outputs": [],
   "source": []
  }
 ],
 "metadata": {
  "kernelspec": {
   "display_name": "Python 3",
   "language": "python",
   "name": "python3"
  },
  "language_info": {
   "codemirror_mode": {
    "name": "ipython",
    "version": 3
   },
   "file_extension": ".py",
   "mimetype": "text/x-python",
   "name": "python",
   "nbconvert_exporter": "python",
   "pygments_lexer": "ipython3",
   "version": "3.7.1"
  }
 },
 "nbformat": 4,
 "nbformat_minor": 2
}
