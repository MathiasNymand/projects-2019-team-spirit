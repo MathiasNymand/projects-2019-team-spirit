{
 "cells": [
  {
   "cell_type": "code",
   "execution_count": 1,
   "metadata": {},
   "outputs": [],
   "source": [
    "## Importing stuff \n",
    "\n",
    "import numpy as np\n",
    "from scipy import linalg\n",
    "from scipy import optimize\n",
    "import sympy as sm\n",
    "sm.init_printing(use_unicode=True)\n",
    "import matplotlib.pyplot as plt\n",
    "import math\n",
    "import ipywidgets as widgets\n",
    "\n",
    "%matplotlib inline\n",
    "import matplotlib.pyplot as plt\n",
    "import ipywidgets as widgets"
   ]
  },
  {
   "cell_type": "code",
   "execution_count": 2,
   "metadata": {},
   "outputs": [],
   "source": [
    "exec(open(\"Def_variables.py\").read())"
   ]
  },
  {
   "cell_type": "code",
   "execution_count": 3,
   "metadata": {},
   "outputs": [
    {
     "data": {
      "image/png": "[encoded data removed]",
      "text/latex": [
       "$$\\left [ 6.261568722311015\\right ]$$"
      ],
      "text/plain": [
       "[6.261568722311015]"
      ]
     },
     "execution_count": 3,
     "metadata": {},
     "output_type": "execute_result"
    }
   ],
   "source": [
    "## Transistions ligning\n",
    "\n",
    "f=k**alpha\n",
    "tc=sm.Eq(0,(s*(1-theta)*k**alpha-(delta+g_b+n)*k))\n",
    "tcc=sm.solve(tc,k)\n",
    "tcc\n",
    "\n",
    "tc_func = sm.lambdify((s,g_b,n,delta,alpha,theta),tcc)\n",
    "tc_func(0.25,0.015,0.01,0.035,0.25,0.05)\n"
   ]
  },
  {
   "cell_type": "code",
   "execution_count": 4,
   "metadata": {},
   "outputs": [],
   "source": [
    "exec(open(\"Def_values.py\").read())"
   ]
  },
  {
   "cell_type": "code",
   "execution_count": 5,
   "metadata": {},
   "outputs": [
    {
     "data": {
      "image/png": "[encoded data removed]",
      "text/latex": [
       "$$6.261568722311015$$"
      ],
      "text/plain": [
       "6.261568722311015"
      ]
     },
     "execution_count": 5,
     "metadata": {},
     "output_type": "execute_result"
    }
   ],
   "source": [
    "obj_kss = lambda k: 0 - (s*(1-theta)*k**alpha-(delta+g_b+n)*k)\n",
    "result = optimize.newton(obj_kss,x0=1)\n",
    "result\n"
   ]
  },
  {
   "cell_type": "code",
   "execution_count": null,
   "metadata": {},
   "outputs": [],
   "source": [
    "\n"
   ]
  },
  {
   "cell_type": "code",
   "execution_count": 6,
   "metadata": {},
   "outputs": [],
   "source": [
    "def invest_per_work(k, theta):\n",
    "    return (s*(1-theta)*k**alpha)\n",
    "def break_even(k):\n",
    "    return (delta+g_b+n)*k"
   ]
  },
  {
   "cell_type": "code",
   "execution_count": 7,
   "metadata": {},
   "outputs": [],
   "source": [
    "x_vec = np.linspace(0,50,50)\n",
    "#theta=np.linspace(0.001,1,100)"
   ]
  },
  {
   "cell_type": "code",
   "execution_count": null,
   "metadata": {
    "scrolled": true
   },
   "outputs": [],
   "source": [
    "\n"
   ]
  },
  {
   "cell_type": "code",
   "execution_count": 8,
   "metadata": {},
   "outputs": [],
   "source": [
    "def transition_diagram(theta):\n",
    "    \n",
    "    fig = plt.figure(figsize=(7,4)) # create the figure\n",
    "    plt.xlabel('k')\n",
    "    investment=invest_per_work(x_vec,theta)\n",
    "    break_even_cap=break_even(x_vec)\n",
    "\n",
    "    \n",
    "    plt.title('Green solow transition diagram')\n",
    "    ax = fig.add_subplot(1,1,1) # create a 3d axis in the figure \n",
    "    ax.plot(break_even_cap, label='$(\\delta+g_B+n)\\cdot k$'); # create surface plot in the axis\n",
    "    ax.plot(investment, label='$s \\cdot (1-\\\\theta)\\cdot k^\\\\alpha $'); # create surface plot in the axis\n",
    "    ax.set_xlim([0,50]) # fixed x range\n",
    "    ax.set_yticklabels([])\n",
    "    plt.legend()\n"
   ]
  },
  {
   "cell_type": "code",
   "execution_count": 9,
   "metadata": {
    "scrolled": false
   },
   "outputs": [
    {
     "data": {
      "application/vnd.jupyter.widget-view+json": {
       "model_id": "eba648dddd734b43b6f9cc6e27751f99",
       "version_major": 2,
       "version_minor": 0
      },
      "text/plain": [
       "interactive(children=(FloatSlider(value=0.05, description='$Theta$', max=1.0, step=0.01), Output()), _dom_clas…"
      ]
     },
     "metadata": {},
     "output_type": "display_data"
    }
   ],
   "source": [
    "widgets.interact(transition_diagram,\n",
    "    \n",
    "    theta=widgets.FloatSlider(description=\"$Theta$\", min=0, max=1, step=0.01, value=0.05),\n",
    "    \n",
    "    \n",
    ");"
   ]
  },
  {
   "cell_type": "code",
   "execution_count": 10,
   "metadata": {},
   "outputs": [],
   "source": [
    "exec(open(\"Def_variables.py\").read())"
   ]
  },
  {
   "cell_type": "code",
   "execution_count": 11,
   "metadata": {},
   "outputs": [
    {
     "data": {
      "image/png": "[encoded data removed]",
      "text/latex": [
       "$$\\left [ 4.266759550779367\\right ]$$"
      ],
      "text/plain": [
       "[4.266759550779367]"
      ]
     },
     "execution_count": 11,
     "metadata": {},
     "output_type": "execute_result"
    }
   ],
   "source": [
    "# Max emision\n",
    "\n",
    "\n",
    "\n",
    "f=k**alpha\n",
    "max_emis=sm.Eq(0,(alpha*s*(1-theta)*k**(alpha-1)-(alpha*(delta+g_b+n)-(g_b+n-g_a))))\n",
    "max_emis_k=sm.solve(max_emis,k)\n",
    "max_emis_k\n",
    "\n",
    "\n",
    "\n",
    "max_emis_func = sm.lambdify((s,g_b,n,delta,alpha,theta,g_a),max_emis_k)\n",
    "max_emis_func(0.25,0.015,0.01,0.035,0.25,0.05,0.03)\n",
    "\n",
    "\n",
    "\n",
    "\n",
    "\n",
    "\n"
   ]
  },
  {
   "cell_type": "code",
   "execution_count": 12,
   "metadata": {},
   "outputs": [
    {
     "data": {
      "image/png": "[encoded data removed]",
      "text/latex": [
       "$$4.266759550779367$$"
      ],
      "text/plain": [
       "4.266759550779367"
      ]
     },
     "execution_count": 12,
     "metadata": {},
     "output_type": "execute_result"
    }
   ],
   "source": [
    "exec(open(\"Def_values.py\").read())\n",
    "obj_kss_ekc = lambda k: 0 - (alpha*s*(1-theta)*k**(alpha-1)-(alpha*(delta+g_b+n)-(g_b+n-g_a)))\n",
    "result_ekc = optimize.newton(obj_kss_ekc,x0=1)\n",
    "result_ekc\n"
   ]
  },
  {
   "cell_type": "code",
   "execution_count": 13,
   "metadata": {},
   "outputs": [],
   "source": [
    "def ekc(k, theta):\n",
    "    return (alpha*s*(1-theta)*k**(alpha-1))\n",
    "\n",
    "def turning_point(alpha):\n",
    "    return alpha*(delta+g_b+n)-(g_b+n-g_a)\n",
    "\n",
    "def steady_state(alpha):\n",
    "    return alpha*(delta+g_b+n)\n",
    "    \n",
    "\n",
    "\n",
    "x_vec2 = np.linspace(0.01,50,1000)"
   ]
  },
  {
   "cell_type": "code",
   "execution_count": null,
   "metadata": {},
   "outputs": [],
   "source": []
  },
  {
   "cell_type": "code",
   "execution_count": 14,
   "metadata": {},
   "outputs": [],
   "source": [
    "def ekc_diagram(theta):\n",
    "    fig = plt.figure(figsize=(7,4)) # create the figure\n",
    "    plt.xlabel('k')\n",
    "    ekc_calc=ekc(x_vec2, theta)\n",
    "    steady_state_val=steady_state(alpha)\n",
    "    turning_point_val=turning_point(alpha)\n",
    "    plt.title('EK - curve')\n",
    "    ax = fig.add_subplot(1,1,1) # create a 3d axis in the figure \n",
    "    plt.axhline(y=steady_state_val, color='r', linestyle='-', label=\"$\\\\alpha \\cdot(\\delta+g_B+n)$\")\n",
    "    plt.axhline(y=turning_point_val, color='y', linestyle='-', label=\"$\\\\alpha \\cdot(\\delta+g_B+n)-(g_b+n-g_a)$\")\n",
    "    ax.plot(ekc_calc, label='$\\\\alpha \\cdot s \\cdot(1-\\\\theta)\\cdot k^{\\\\alpha-1}$'); # create surface plot in the axis\n",
    "    ax.set_xlim([0,200]) # fixed x range\n",
    "    ax.set_ylim([0,0.05])\n",
    "    #ax.set_yticklabels([])\n",
    "    #ax.set_xticklabels([])\n",
    "    ax.annotate('Point T', xy=(80, 0.02), xytext=(80, 0.022),\n",
    "               )\n",
    "    ax.annotate('Point B', xy=(125, 0.015), xytext=(122, 0.016),\n",
    "               )\n",
    "\n",
    "    plt.legend()\n",
    "\n",
    "    \n",
    "    \n",
    "    \n",
    "  "
   ]
  },
  {
   "cell_type": "code",
   "execution_count": 15,
   "metadata": {},
   "outputs": [
    {
     "data": {
      "image/png": "[encoded data removed]",
      "text/latex": [
       "$$0.019999999999999997$$"
      ],
      "text/plain": [
       "0.019999999999999997"
      ]
     },
     "execution_count": 15,
     "metadata": {},
     "output_type": "execute_result"
    }
   ],
   "source": [
    "turning_point(alpha)"
   ]
  },
  {
   "cell_type": "code",
   "execution_count": 49,
   "metadata": {},
   "outputs": [
    {
     "data": {
      "application/vnd.jupyter.widget-view+json": {
       "model_id": "56d71b5f9b764bff97b63bc9f05d7033",
       "version_major": 2,
       "version_minor": 0
      },
      "text/plain": [
       "interactive(children=(FloatSlider(value=0.05, description='$Theta$', max=1.0, min=0.005, step=0.01), Output())…"
      ]
     },
     "metadata": {},
     "output_type": "display_data"
    }
   ],
   "source": [
    "widgets.interact(ekc_diagram,\n",
    "    \n",
    "    theta=widgets.FloatSlider(description=\"$Theta$\", min=0.005, max=1, step=0.01, value=0.05),\n",
    "    #x_vec=widgets.float(x_vec),\n",
    "    \n",
    ");"
   ]
  },
  {
   "cell_type": "code",
   "execution_count": 17,
   "metadata": {},
   "outputs": [],
   "source": [
    "def invest_per_work2(k, theta,alpha,s):\n",
    "    return (s*(1-theta)*k**alpha)\n",
    "def break_even(k):\n",
    "    return (delta+g_b+n)*k"
   ]
  },
  {
   "cell_type": "code",
   "execution_count": 38,
   "metadata": {},
   "outputs": [],
   "source": [
    "def transition_diagram2(theta,alpha,s):\n",
    "    \n",
    "    fig = plt.figure(figsize=(7,4)) # create the figure\n",
    "    plt.xlabel('k')\n",
    "    investment=invest_per_work2(x_vec,theta,alpha,s)\n",
    "    break_even_cap=break_even(x_vec)\n",
    "\n",
    "    \n",
    "    plt.title('Green solow transition diagram')\n",
    "    ax = fig.add_subplot(1,1,1) # create a 3d axis in the figure \n",
    "    ax.plot(break_even_cap, label='$(\\delta+g_B+n)\\cdot k$'); # create surface plot in the axis\n",
    "    ax.plot(investment, label='$s \\cdot (1-\\\\theta)\\cdot k^\\\\alpha $'); # create surface plot in the axis\n",
    "    ax.set_xlim([0,50]) # fixed x range\n",
    "    ax.set_yticklabels([])\n",
    "    plt.legend()\n"
   ]
  },
  {
   "cell_type": "code",
   "execution_count": 40,
   "metadata": {},
   "outputs": [
    {
     "data": {
      "application/vnd.jupyter.widget-view+json": {
       "model_id": "fed5e71dd38d4f829c839cf57a802862",
       "version_major": 2,
       "version_minor": 0
      },
      "text/plain": [
       "interactive(children=(FloatSlider(value=0.05, description='$Theta$', max=1.0, step=0.01), FloatSlider(value=0.…"
      ]
     },
     "metadata": {},
     "output_type": "display_data"
    }
   ],
   "source": [
    "widgets.interact(transition_diagram2,\n",
    "    \n",
    "    theta=widgets.FloatSlider(description=\"$Theta$\", min=0, max=1, step=0.01, value=0.05),\n",
    "    alpha=widgets.FloatSlider(description=\"$Alpha$\", min=0, max=1, step=0.01, value=0.25),\n",
    "    s=widgets.FloatSlider(description=\"$s$\", min=0, max=1, step=0.01, value=0.25),\n",
    "    \n",
    ");"
   ]
  },
  {
   "cell_type": "markdown",
   "metadata": {},
   "source": [
    "The Environmental Kuznets Curve (EKC) describes a bell-shaped relationship between total emissions and income per capita, depicted in the figure below. The original Kuznets curve was formalized by Simon Kuznets (1955) as a bell-shaped relationship between income inequality and income per capita. In the early 1990s the idea behind the original Kuznets curve was translated to describe a relationship between total emissions and income per capita, thereby given the name \"The Environmental Kuznets Curve\". The figure of the EKC shows that as income per capita increases, in the early stages of economic development, when income per capita is low, emissions will increase as well. However, at a certain point when income per capita gets sufficiently high a turning point is reached. After this turning point income per capita will continue to rise, but emissions will start to decline."
   ]
  },
  {
   "cell_type": "code",
   "execution_count": null,
   "metadata": {},
   "outputs": [],
   "source": []
  },
  {
   "cell_type": "markdown",
   "metadata": {},
   "source": [
    "**Sustainable growth**  \n",
    "Brock and Taylor (2004) define sustainable growth as a situation where the growth rate of net output per capita is positive, while the growth rate of total emissions is negative\n",
    "\\begin{align}\n",
    "    \\dot{y}>0 \\quad \\wedge \\quad \\dot{E}<0\n",
    "\\end{align}\n",
    "It is possible to establish conditions that will secure that sustainable growth occurs within the Green Solow model.\n",
    "\n",
    "From the equations defined in the Green Solow model it can be shown that the growth rate of y must be given by: \n",
    "\\begin{align}\n",
    "    \\frac{\\dot{y}}{y} = g_B+\\alpha \\frac{\\dot{k}}{k}\n",
    "\\end{align}\n",
    "It is possible to present a growth rate for total emissions aswell, which is given by: \n",
    "\\begin{align}\n",
    "    \\frac{\\dot{E}}{E} = g_E +\\alpha \\frac{\\dot{k}}{k}, \\quad g_E \\equiv g_B+n-g_A \n",
    "\\end{align}\n",
    "In steady state $\\dot{k}=0$. When applying this we get the following growth rates on the balanced growth path:\n",
    "\\begin{align}\n",
    "    & \\frac{\\dot{y}}{y}=g_B  \\qquad , \\qquad  \\frac{\\dot{E}}{E}=g_E\n",
    "\\end{align}\n",
    "We can thereby conclude that sustainable growth is secured  when \n",
    "\\begin{align}\n",
    "    & g_B > 0 \\qquad \\wedge \\qquad  \\underbrace{g_A}_{\\text{Technique effect}} > \\underbrace{g_B + n}_{\\text{Scale effect}}\n",
    "\\end{align}\n",
    "We note that technological growth in the production of net output is positive by assumption. However, from the second condition we see that the technological growth in abatement must be larger than the technological growth in the production of gross output plus the population growth rate. The term $n+g_B$ can be defined as the scale effect, as this measures the rate at which aggregate gross output grows. The term $g_A$ is defined as the technological progress in abatement, which reflects the technique effect.  \n",
    "We will use these definitions in the end of this project in order to secure the understanding of how an EKC relationship can potentially arise from the Green Solow model"
   ]
  },
  {
   "cell_type": "code",
   "execution_count": null,
   "metadata": {},
   "outputs": [],
   "source": []
  },
  {
   "cell_type": "markdown",
   "metadata": {},
   "source": [
    "To see how the Green Solow model can trace out an EKC relationship, we use equation (11) and (16). From these equations it is possible to link the dynamics of capital accumulation with the evolution of total emissions. In the figure below we have capital per effective worker on the horizontal axis, while we have the rates of change of $\\alpha$ times capital per effective worker ($\\alpha \\frac{\\dot{k}}{k}$) and the flow of emissions ($\\dot{E}/E$) on the vertical axis. \n",
    "We refer to the down-sloping function $\\alpha s (1-\\theta)k^{\\alpha - 1}$ as the savings locus, as it is shifted to the left and right when s goes down or up respectively. The savings locus will start at infinity and converge towards 0 as capital per effective worker increases. Hence, the rates of change for emissions will be high at a low k, and the rates of change for emissions will decrease when k increases. The same goes for capital per effective worker. As the savings locus is downward sloping, it must be the case that it intersects the two points T and B. Point T refers to the turning point for emissions, and point B refers to the steady state value for capital per effective worker. To verify that T and B represent these two points we note from equation (16) that when emissions peak ($\\dot{E} = 0$) then \n",
    "\\begin{align}\n",
    "    \\frac{\\dot{E}}{E} = g_E +\\alpha (s(1-\\theta)k^{\\alpha-1}-(\\delta+g_B+n)) = 0 => \\alpha s(1-\\theta)k^{\\alpha-1} = \\alpha(\\delta+g_B+n) -g_E  \n",
    "\\end{align}\n",
    "This is what happens at point T. From equation (19) it is apparent that to the left of point T the growth rate of emissions will be positive and to the right of point T the growth rate of emissions will be negative. Hence, point T must represent a turning point for total emissions. Looking at the horizontal line of $\\alpha (\\delta + g_B + n)$ we see that the vertical distance between the two curves must be $\\alpha \\frac{\\dot{k}}{k}$. This is seen as\n",
    "\\begin{align*}\n",
    "    \\alpha\\frac{\\dot{k}}{k}=\\alpha s(1-\\theta)k^{\\alpha-1}- \\alpha (\\delta+g_B+n) \n",
    "\\end{align*}\n",
    "In steady state $\\dot{k}=0$ such that\n",
    "\\begin{align*}\n",
    "    \\alpha\\frac{\\dot{k}}{k}=\\alpha s(1-\\theta)k^{\\alpha-1}- \\alpha (\\delta+g_B+n) =0 \\Rightarrow \\alpha s(1-\\theta)k^{\\alpha-1} = \\alpha (\\delta+g_B+n)\n",
    "\\end{align*}\n",
    "And we therefore conclude that point B represents the steady state level for capital per effective worker. It must be the case that k is rising to the left of B but falling to the right of B. We see that when k is small there must be a rapid growth in capital per effective worker but this growth rate falls as k approaches its steady state level. This dynamic is transferred to the growth dynamics of emissions, due to $g_E$ being constant in equation (16).    \n",
    "\n",
    "\n",
    "\n",
    "The EKC relationship described above is a combination of unsustainable and sustainable growth. In the early stages of economic development a country will exhibit unsustainable growth, that is $g_A<g_B+n$. Such that the scale effect dominates the technique effect, representing increasing emissions as income increases. This is generated by a low amount of capital, reflecting a high marginal product of capital. This leads to increased savings and investments thereby increasing income. As there is diminishing returns to capital, the growth rate of income will fall as the economy approaches its steady state level. As the growth in abatement technology is constant it will surpass the growth in income, generating the sustainable situation where the technique effect dominates the scale effect ($g_A>g_B+n$). Hence income will continue to rise but total emissions will start to decline. The EKC is not generated by increased awareness towards the environment, which would have been reflected by an increased abatement intensity ($\\theta$). It is only generated by the forces between the growth rates.  \n",
    "When deriving the above results, it was assumed that growth was sustainable such that T lied to the left of B ($g_E<0$), implying that the steady state level for capital per effective worker was reached after emissions peaked. However, a EKC will not necessarily arise even in the sustainable case. If the initial capital stock lies between point T and B, then there will be ever declining emissions, since the turning point (T) has been surpassed.  \n",
    "It is also possible that growth is not sustainable ($g_E>0$). If growth is not sustainable then T would lie to the right of B. In this scenario emissions will continue to rise towards infinity, but as capital per effective worker approaches its steady state level the growth rate of total emissions will fall. However, in the balanced growth path emissions will continue to rise.   \n",
    "As the above analysis shows there exists a turning point for total emissions (under appropriate conditions). It is however not the case that the level of total emissions, nor income per capita will be unique at this turning point. To verify this consider two economies with an identical level of capital per effective worker that both are at $k(T)$. If one of the economies has a lower working population, but a more effective one, then income per capita will differ at the turning point. The same reasoning can explain why the peak level of emissions may differ. A larger economy will have higher emissions at any time, as they naturally pollute more, but might have the same capital per effective worker.\n"
   ]
  },
  {
   "cell_type": "markdown",
   "metadata": {},
   "source": [
    "![title](img\\\\Pictures\\ekcpicture.png)"
   ]
  },
  {
   "cell_type": "code",
   "execution_count": null,
   "metadata": {},
   "outputs": [],
   "source": []
  },
  {
   "cell_type": "code",
   "execution_count": null,
   "metadata": {},
   "outputs": [],
   "source": []
  },
  {
   "cell_type": "code",
   "execution_count": null,
   "metadata": {},
   "outputs": [],
   "source": []
  }
 ],
 "metadata": {
  "kernelspec": {
   "display_name": "Python 3",
   "language": "python",
   "name": "python3"
  },
  "language_info": {
   "codemirror_mode": {
    "name": "ipython",
    "version": 3
   },
   "file_extension": ".py",
   "mimetype": "text/x-python",
   "name": "python",
   "nbconvert_exporter": "python",
   "pygments_lexer": "ipython3",
   "version": "3.7.1"
  }
 },
 "nbformat": 4,
 "nbformat_minor": 2
}
