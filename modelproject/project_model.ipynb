{
 "cells": [
  {
   "cell_type": "code",
   "execution_count": 109,
   "metadata": {},
   "outputs": [],
   "source": [
    "## Importing stuff \n",
    "\n",
    "import numpy as np\n",
    "from scipy import linalg\n",
    "from scipy import optimize\n",
    "import sympy as sm\n",
    "sm.init_printing(use_unicode=True)\n",
    "import matplotlib.pyplot as plt\n",
    "import math\n"
   ]
  },
  {
   "cell_type": "code",
   "execution_count": 110,
   "metadata": {},
   "outputs": [],
   "source": [
    "K = sm.symbols('K')\n",
    "L = sm.symbols('L')\n",
    "Y = sm.symbols('Y')\n",
    "B = sm.symbols('B')\n",
    "Q = sm.symbols('Q')\n",
    "R = sm.symbols('R')\n",
    "E = sm.symbols('E')\n",
    "z = sm.symbols('z')\n",
    "Omega = sm.symbols('Omega')\n",
    "alpha = sm.symbols('alpha')\n",
    "delta = sm.symbols('delta')\n",
    "s = sm.symbols('s')\n",
    "g_a = sm.symbols('g_a')\n",
    "n = sm.symbols('n')\n",
    "theta = sm.symbols('theta')\n",
    "A = sm.symbols('A')\n",
    "epsilon = sm.symbols('epsilon')\n",
    "B_t = sm.symbols('B_t')\n",
    "K_t = sm.symbols('K_t')\n",
    "L_t = sm.symbols('L_t')\n",
    "Omega_t = sm.symbols('Omega_t')\n",
    "k_t = sm.symbols('k_t')\n",
    "k = sm.symbols('k')\n",
    "y = sm.symbols('y')\n",
    "L_0 = sm.symbols('L_0')\n",
    "t = sm.symbols('t')\n",
    "g_b = sm.symbols('g_b')\n",
    "B_0 = sm.symbols('B_0')\n",
    "Omega_0 = sm.symbols('Omega_0')"
   ]
  },
  {
   "cell_type": "code",
   "execution_count": 39,
   "metadata": {},
   "outputs": [
    {
     "data": {
      "image/png": "[encoded data removed]",
      "text/latex": [
       "$$\\left [ \\left(\\frac{Q \\left(B L\\right)^{\\alpha}}{B L}\\right)^{\\frac{1}{\\alpha}}\\right ]$$"
      ],
      "text/plain": [
       "⎡        __________⎤\n",
       "⎢       ╱        α ⎥\n",
       "⎢      ╱  Q⋅(B⋅L)  ⎥\n",
       "⎢alpha╱   ──────── ⎥\n",
       "⎣   ╲╱      B⋅L    ⎦"
      ]
     },
     "execution_count": 39,
     "metadata": {},
     "output_type": "execute_result"
    }
   ],
   "source": [
    "Gross_output=sm.Eq(Q,((K**alpha)*(B*L)**(1-alpha)))\n",
    "frank=sm.solve(Gross_output,K)\n",
    "frank"
   ]
  },
  {
   "cell_type": "code",
   "execution_count": 40,
   "metadata": {},
   "outputs": [
    {
     "data": {
      "image/png": "[encoded data removed]",
      "text/latex": [
       "$$\\frac{K^{\\alpha} \\alpha \\left(B L\\right)^{- \\alpha + 1}}{K}$$"
      ],
      "text/plain": [
       " α        -α + 1\n",
       "K ⋅α⋅(B⋅L)      \n",
       "────────────────\n",
       "       K        "
      ]
     },
     "execution_count": 40,
     "metadata": {},
     "output_type": "execute_result"
    }
   ],
   "source": [
    "Q=((K**alpha)*(B*L)**(1-alpha))\n",
    "sm.diff(Q,K)\n"
   ]
  },
  {
   "cell_type": "code",
   "execution_count": 41,
   "metadata": {},
   "outputs": [
    {
     "data": {
      "image/png": "[encoded data removed]",
      "text/latex": [
       "$$\\left [ \\left(\\frac{s \\left(- \\theta + 1\\right)}{\\delta + g + n}\\right)^{- \\frac{1}{\\alpha - 1}}\\right ]$$"
      ],
      "text/plain": [
       "⎡             -1  ⎤\n",
       "⎢            ─────⎥\n",
       "⎢            α - 1⎥\n",
       "⎢⎛s⋅(-θ + 1)⎞     ⎥\n",
       "⎢⎜──────────⎟     ⎥\n",
       "⎣⎝δ + g + n ⎠     ⎦"
      ]
     },
     "execution_count": 41,
     "metadata": {},
     "output_type": "execute_result"
    }
   ],
   "source": [
    "\n",
    "f=k**alpha\n",
    "tc=sm.Eq(0,(s*(1-theta)*k**alpha-(delta+g+n)*k))\n",
    "tcc=sm.solve(tc,k)\n",
    "tcc"
   ]
  },
  {
   "cell_type": "code",
   "execution_count": 43,
   "metadata": {},
   "outputs": [],
   "source": [
    "tc_func = sm.lambdify((s,g,n,delta,alpha,theta),tcc)"
   ]
  },
  {
   "cell_type": "code",
   "execution_count": 44,
   "metadata": {},
   "outputs": [
    {
     "data": {
      "image/png": "[encoded data removed]",
      "text/latex": [
       "$$\\left [ 6.261568722311015\\right ]$$"
      ],
      "text/plain": [
       "[6.261568722311015]"
      ]
     },
     "execution_count": 44,
     "metadata": {},
     "output_type": "execute_result"
    }
   ],
   "source": [
    "tc_func(0.25,0.015,0.01,0.035,0.25,0.05)"
   ]
  },
  {
   "cell_type": "code",
   "execution_count": 12,
   "metadata": {},
   "outputs": [],
   "source": []
  },
  {
   "cell_type": "code",
   "execution_count": 83,
   "metadata": {},
   "outputs": [],
   "source": [
    "gross_output=sm.Eq(Q,((K**alpha)*(B*L)**(1-alpha)))\n",
    "net_output=sm.Eq(Y,((1-theta)*Q))\n",
    "\n",
    "capital_acc=sm.Eq(K_t,(s*Y-delta*K))\n",
    "evo_lab=sm.Eq(L,(L_0*sm.exp(n*t)))\n",
    "tech_prog=sm.Eq(B,((B_0*sm.exp(g_b*t))))\n",
    "\n",
    "theta_f=sm.Eq(theta,(R/Q))\n",
    "tot_emis=sm.Eq(E,(Omega_0*sm.exp(-g_a*t)*Q*(1-theta)**epsilon))\n",
    "evo_emis_coef=sm.Eq(Omega_t,(-g_a*Omega))\n",
    "emis_coef=sm.Eq(Omega,(Omega_0*sm.exp(-g_a*t)))\n",
    "\n",
    "evo_emis_coef2=sm.Eq(0,(-g_a*Omega)-Omega_t)\n",
    "emis_coef2=sm.Eq(0,(Omega_0*sm.exp(-g_a*t))-Omega)\n",
    "\n",
    "\n"
   ]
  },
  {
   "cell_type": "code",
   "execution_count": 88,
   "metadata": {},
   "outputs": [
    {
     "data": {
      "image/png": "[encoded data removed]",
      "text/latex": [
       "$$\\left\\{\\left ( - \\Omega_{0} g_{a} e^{- g_{a} t}, \\quad \\Omega_{0} e^{- g_{a} t}\\right )\\right\\}$$"
      ],
      "text/plain": [
       "⎧⎛        -gₐ⋅t      -gₐ⋅t⎞⎫\n",
       "⎨⎝-Ω₀⋅gₐ⋅ℯ     , Ω₀⋅ℯ     ⎠⎬\n",
       "⎩                          ⎭"
      ]
     },
     "execution_count": 88,
     "metadata": {},
     "output_type": "execute_result"
    }
   ],
   "source": [
    "test=sm.nonlinsolve([emis_coef2, evo_emis_coef2], [Omega_t, Omega])\n",
    "test"
   ]
  },
  {
   "cell_type": "code",
   "execution_count": 89,
   "metadata": {},
   "outputs": [
    {
     "data": {
      "image/png": "[encoded data removed]",
      "text/latex": [
       "$$\\left [ \\left(\\frac{s \\left(- \\theta + 1\\right)}{\\delta + g + n}\\right)^{- \\frac{1}{\\alpha - 1}}\\right ]$$"
      ],
      "text/plain": [
       "⎡             -1  ⎤\n",
       "⎢            ─────⎥\n",
       "⎢            α - 1⎥\n",
       "⎢⎛s⋅(-θ + 1)⎞     ⎥\n",
       "⎢⎜──────────⎟     ⎥\n",
       "⎣⎝δ + g + n ⎠     ⎦"
      ]
     },
     "execution_count": 89,
     "metadata": {},
     "output_type": "execute_result"
    }
   ],
   "source": [
    "## Transistions ligning\n",
    "\n",
    "f=k**alpha\n",
    "tc=sm.Eq(0,(s*(1-theta)*k**alpha-(delta+g+n)*k))\n",
    "tcc=sm.solve(tc,k)\n",
    "tcc\n",
    "\n",
    "\n"
   ]
  },
  {
   "cell_type": "code",
   "execution_count": 95,
   "metadata": {},
   "outputs": [],
   "source": [
    "k_lin=np.linspace(0,10,100)\n",
    "k_lin.shape\n",
    "\n",
    "s = 0.2\n",
    "g = 0.02\n",
    "n = 0.01\n",
    "alpha = 1/3\n",
    "delta = 0.1\n",
    "theta = 0.1"
   ]
  },
  {
   "cell_type": "code",
   "execution_count": 96,
   "metadata": {},
   "outputs": [
    {
     "ename": "AttributeError",
     "evalue": "module 'scipy.optimize' has no attribute 'root_scalar'",
     "output_type": "error",
     "traceback": [
      "\u001b[1;31m---------------------------------------------------------------------------\u001b[0m",
      "\u001b[1;31mAttributeError\u001b[0m                            Traceback (most recent call last)",
      "\u001b[1;32m<ipython-input-96-9916618b3f0b>\u001b[0m in \u001b[0;36m<module>\u001b[1;34m\u001b[0m\n\u001b[0;32m      1\u001b[0m \u001b[0mobj_kss\u001b[0m \u001b[1;33m=\u001b[0m \u001b[1;32mlambda\u001b[0m \u001b[0mk\u001b[0m\u001b[1;33m:\u001b[0m \u001b[1;36m0\u001b[0m \u001b[1;33m-\u001b[0m \u001b[0ms\u001b[0m\u001b[1;33m*\u001b[0m\u001b[1;33m(\u001b[0m\u001b[1;36m1\u001b[0m\u001b[1;33m-\u001b[0m\u001b[0mtheta\u001b[0m\u001b[1;33m)\u001b[0m\u001b[1;33m*\u001b[0m\u001b[0mk\u001b[0m\u001b[1;33m**\u001b[0m\u001b[0malpha\u001b[0m\u001b[1;33m-\u001b[0m\u001b[1;33m(\u001b[0m\u001b[0mdelta\u001b[0m\u001b[1;33m+\u001b[0m\u001b[0mg\u001b[0m\u001b[1;33m+\u001b[0m\u001b[0mn\u001b[0m\u001b[1;33m)\u001b[0m\u001b[1;33m*\u001b[0m\u001b[0mk\u001b[0m\u001b[1;33m\u001b[0m\u001b[1;33m\u001b[0m\u001b[0m\n\u001b[1;32m----> 2\u001b[1;33m \u001b[0mresult\u001b[0m \u001b[1;33m=\u001b[0m \u001b[0moptimize\u001b[0m\u001b[1;33m.\u001b[0m\u001b[0mroot_scalar\u001b[0m\u001b[1;33m(\u001b[0m\u001b[0mobj_kss\u001b[0m\u001b[1;33m,\u001b[0m\u001b[0mbracket\u001b[0m\u001b[1;33m=\u001b[0m\u001b[1;33m[\u001b[0m\u001b[1;36m0.1\u001b[0m\u001b[1;33m,\u001b[0m\u001b[1;36m100\u001b[0m\u001b[1;33m]\u001b[0m\u001b[1;33m,\u001b[0m\u001b[0mmethod\u001b[0m\u001b[1;33m=\u001b[0m\u001b[1;34m'brentq'\u001b[0m\u001b[1;33m)\u001b[0m\u001b[1;33m\u001b[0m\u001b[1;33m\u001b[0m\u001b[0m\n\u001b[0m",
      "\u001b[1;31mAttributeError\u001b[0m: module 'scipy.optimize' has no attribute 'root_scalar'"
     ]
    }
   ],
   "source": [
    "obj_kss = lambda k: 0 - s*(1-theta)*k**alpha-(delta+g+n)*k\n",
    "result = optimize.root_scalar(obj_kss,bracket=[0.1,100],method='brentq')"
   ]
  },
  {
   "cell_type": "code",
   "execution_count": 105,
   "metadata": {},
   "outputs": [
    {
     "name": "stdout",
     "output_type": "stream",
     "text": [
      "Once deleted, variables cannot be recovered. Proceed (y/[n])? y\n"
     ]
    }
   ],
   "source": [
    "%reset"
   ]
  },
  {
   "cell_type": "code",
   "execution_count": 112,
   "metadata": {},
   "outputs": [
    {
     "data": {
      "image/png": "[encoded data removed]",
      "text/latex": [
       "$$\\left [ \\left(\\frac{- \\alpha \\delta - \\alpha g_{b} - \\alpha n - g_{a} + g_{b} + n}{\\alpha s \\left(\\theta - 1\\right)}\\right)^{\\frac{1}{\\alpha - 1}}\\right ]$$"
      ],
      "text/plain": [
       "⎡                                     1  ⎤\n",
       "⎢                                   ─────⎥\n",
       "⎢                                   α - 1⎥\n",
       "⎢⎛-α⋅δ - α⋅g_b - α⋅n - gₐ + g_b + n⎞     ⎥\n",
       "⎢⎜─────────────────────────────────⎟     ⎥\n",
       "⎣⎝           α⋅s⋅(θ - 1)           ⎠     ⎦"
      ]
     },
     "execution_count": 112,
     "metadata": {},
     "output_type": "execute_result"
    }
   ],
   "source": [
    "# Max emision\n",
    "\n",
    "\n",
    "\n",
    "f=k**alpha\n",
    "max_emis=sm.Eq(0,(alpha*s*(1-theta)*k**(alpha-1)-(alpha*(delta+g_b+n)-(g_b+n-g_a))))\n",
    "max_emis_k=sm.solve(max_emis,k)\n",
    "max_emis_k\n",
    "\n",
    "\n",
    "\n",
    "\n",
    "\n",
    "#f=k**alpha\n",
    "#tc=sm.Eq(0,(s*(1-theta)*k**alpha-(delta+g+n)*k))\n",
    "#tcc=sm.solve(tc,k)\n",
    "#tcc"
   ]
  },
  {
   "cell_type": "code",
   "execution_count": null,
   "metadata": {},
   "outputs": [],
   "source": []
  }
 ],
 "metadata": {
  "kernelspec": {
   "display_name": "Python 3",
   "language": "python",
   "name": "python3"
  },
  "language_info": {
   "codemirror_mode": {
    "name": "ipython",
    "version": 3
   },
   "file_extension": ".py",
   "mimetype": "text/x-python",
   "name": "python",
   "nbconvert_exporter": "python",
   "pygments_lexer": "ipython3",
   "version": "3.7.1"
  }
 },
 "nbformat": 4,
 "nbformat_minor": 2
}
